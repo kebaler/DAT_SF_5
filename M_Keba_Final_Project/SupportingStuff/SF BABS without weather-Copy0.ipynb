{
 "metadata": {
  "name": ""
 },
 "nbformat": 3,
 "nbformat_minor": 0,
 "worksheets": [
  {
   "cells": [
    {
     "cell_type": "code",
     "collapsed": false,
     "input": [
      "# usual imports\n",
      "import pandas as pd\n",
      "import numpy as np\n",
      "import pylab as pl\n",
      "\n",
      "# previous sklearn modules\n",
      "from sklearn.cross_validation import cross_val_score\n",
      "from sklearn.cross_validation import train_test_split"
     ],
     "language": "python",
     "metadata": {},
     "outputs": [],
     "prompt_number": 1
    },
    {
     "cell_type": "code",
     "collapsed": false,
     "input": [
      "sfrides = pd.read_csv(\"babs_trip_data_cleaned.csv\")\n",
      "sfrides.info()"
     ],
     "language": "python",
     "metadata": {},
     "outputs": [
      {
       "output_type": "stream",
       "stream": "stdout",
       "text": [
        "<class 'pandas.core.frame.DataFrame'>\n",
        "Int64Index: 129850 entries, 0 to 129849\n",
        "Data columns (total 15 columns):\n",
        "Start_Date                  129850 non-null object\n",
        "Month                       129850 non-null object\n",
        "Day_of_Week                 129850 non-null object\n",
        "Hour_of_day                 129850 non-null int64\n",
        "Start_Station               129850 non-null object\n",
        "End_Timestamp               129850 non-null object\n",
        "End_Station                 129850 non-null object\n",
        "End_Station_Neighborhood    129850 non-null object\n",
        "Subscription_Type           129850 non-null object\n",
        "Zip_Code                    124193 non-null object\n",
        "Mean_Temperature_F          129850 non-null int64\n",
        "Mean_Humidity               129850 non-null int64\n",
        "Mean_Wind_Speed_MPH         129850 non-null int64\n",
        "Precipitation_In            129850 non-null object\n",
        "Cloud_Cover                 129850 non-null int64\n",
        "dtypes: int64(5), object(10)"
       ]
      }
     ],
     "prompt_number": 2
    },
    {
     "cell_type": "code",
     "collapsed": false,
     "input": [
      "sfrides.head()"
     ],
     "language": "python",
     "metadata": {},
     "outputs": [
      {
       "html": [
        "<div style=\"max-height:1000px;max-width:1500px;overflow:auto;\">\n",
        "<table border=\"1\" class=\"dataframe\">\n",
        "  <thead>\n",
        "    <tr style=\"text-align: right;\">\n",
        "      <th></th>\n",
        "      <th>Start_Date</th>\n",
        "      <th>Month</th>\n",
        "      <th>Day_of_Week</th>\n",
        "      <th>Hour_of_day</th>\n",
        "      <th>Start_Station</th>\n",
        "      <th>End_Timestamp</th>\n",
        "      <th>End_Station</th>\n",
        "      <th>End_Station_Neighborhood</th>\n",
        "      <th>Subscription_Type</th>\n",
        "      <th>Zip_Code</th>\n",
        "      <th>Mean_Temperature_F</th>\n",
        "      <th>Mean_Humidity</th>\n",
        "      <th>Mean_Wind_Speed_MPH</th>\n",
        "      <th>Precipitation_In</th>\n",
        "      <th>Cloud_Cover</th>\n",
        "    </tr>\n",
        "  </thead>\n",
        "  <tbody>\n",
        "    <tr>\n",
        "      <th>0</th>\n",
        "      <td> 8/29/13</td>\n",
        "      <td> Aug</td>\n",
        "      <td> Thu</td>\n",
        "      <td> 14</td>\n",
        "      <td> South Van Ness at Market</td>\n",
        "      <td> 8/29/13 14:14</td>\n",
        "      <td> South Van Ness at Market</td>\n",
        "      <td> Civic Center/Mid-Market</td>\n",
        "      <td> Subscriber</td>\n",
        "      <td> 94127</td>\n",
        "      <td> 68</td>\n",
        "      <td> 75</td>\n",
        "      <td> 11</td>\n",
        "      <td> 0</td>\n",
        "      <td> 4</td>\n",
        "    </tr>\n",
        "    <tr>\n",
        "      <th>1</th>\n",
        "      <td> 8/29/13</td>\n",
        "      <td> Aug</td>\n",
        "      <td> Thu</td>\n",
        "      <td> 12</td>\n",
        "      <td> South Van Ness at Market</td>\n",
        "      <td> 8/29/13 12:04</td>\n",
        "      <td>           Market at 10th</td>\n",
        "      <td> Civic Center/Mid-Market</td>\n",
        "      <td> Subscriber</td>\n",
        "      <td> 94103</td>\n",
        "      <td> 68</td>\n",
        "      <td> 75</td>\n",
        "      <td> 11</td>\n",
        "      <td> 0</td>\n",
        "      <td> 4</td>\n",
        "    </tr>\n",
        "    <tr>\n",
        "      <th>2</th>\n",
        "      <td> 8/29/13</td>\n",
        "      <td> Aug</td>\n",
        "      <td> Thu</td>\n",
        "      <td> 18</td>\n",
        "      <td>      Golden Gate at Polk</td>\n",
        "      <td> 8/29/13 18:56</td>\n",
        "      <td>      Golden Gate at Polk</td>\n",
        "      <td> Civic Center/Mid-Market</td>\n",
        "      <td> Subscriber</td>\n",
        "      <td> 94109</td>\n",
        "      <td> 68</td>\n",
        "      <td> 75</td>\n",
        "      <td> 11</td>\n",
        "      <td> 0</td>\n",
        "      <td> 4</td>\n",
        "    </tr>\n",
        "    <tr>\n",
        "      <th>3</th>\n",
        "      <td> 8/29/13</td>\n",
        "      <td> Aug</td>\n",
        "      <td> Thu</td>\n",
        "      <td> 17</td>\n",
        "      <td> South Van Ness at Market</td>\n",
        "      <td> 8/29/13 17:03</td>\n",
        "      <td> South Van Ness at Market</td>\n",
        "      <td> Civic Center/Mid-Market</td>\n",
        "      <td> Subscriber</td>\n",
        "      <td> 94103</td>\n",
        "      <td> 68</td>\n",
        "      <td> 75</td>\n",
        "      <td> 11</td>\n",
        "      <td> 0</td>\n",
        "      <td> 4</td>\n",
        "    </tr>\n",
        "    <tr>\n",
        "      <th>4</th>\n",
        "      <td> 8/29/13</td>\n",
        "      <td> Aug</td>\n",
        "      <td> Thu</td>\n",
        "      <td> 13</td>\n",
        "      <td>          Spear at Folsom</td>\n",
        "      <td> 8/29/13 13:55</td>\n",
        "      <td>    Embarcadero at Bryant</td>\n",
        "      <td>             South Beach</td>\n",
        "      <td> Subscriber</td>\n",
        "      <td> 94109</td>\n",
        "      <td> 68</td>\n",
        "      <td> 75</td>\n",
        "      <td> 11</td>\n",
        "      <td> 0</td>\n",
        "      <td> 4</td>\n",
        "    </tr>\n",
        "  </tbody>\n",
        "</table>\n",
        "<p>5 rows \u00d7 15 columns</p>\n",
        "</div>"
       ],
       "metadata": {},
       "output_type": "pyout",
       "prompt_number": 3,
       "text": [
        "  Start_Date Month Day_of_Week  Hour_of_day             Start_Station  \\\n",
        "0    8/29/13   Aug         Thu           14  South Van Ness at Market   \n",
        "1    8/29/13   Aug         Thu           12  South Van Ness at Market   \n",
        "2    8/29/13   Aug         Thu           18       Golden Gate at Polk   \n",
        "3    8/29/13   Aug         Thu           17  South Van Ness at Market   \n",
        "4    8/29/13   Aug         Thu           13           Spear at Folsom   \n",
        "\n",
        "   End_Timestamp               End_Station End_Station_Neighborhood  \\\n",
        "0  8/29/13 14:14  South Van Ness at Market  Civic Center/Mid-Market   \n",
        "1  8/29/13 12:04            Market at 10th  Civic Center/Mid-Market   \n",
        "2  8/29/13 18:56       Golden Gate at Polk  Civic Center/Mid-Market   \n",
        "3  8/29/13 17:03  South Van Ness at Market  Civic Center/Mid-Market   \n",
        "4  8/29/13 13:55     Embarcadero at Bryant              South Beach   \n",
        "\n",
        "  Subscription_Type Zip_Code  Mean_Temperature_F  Mean_Humidity  \\\n",
        "0        Subscriber    94127                  68             75   \n",
        "1        Subscriber    94103                  68             75   \n",
        "2        Subscriber    94109                  68             75   \n",
        "3        Subscriber    94103                  68             75   \n",
        "4        Subscriber    94109                  68             75   \n",
        "\n",
        "   Mean_Wind_Speed_MPH Precipitation_In  Cloud_Cover  \n",
        "0                   11                0            4  \n",
        "1                   11                0            4  \n",
        "2                   11                0            4  \n",
        "3                   11                0            4  \n",
        "4                   11                0            4  \n",
        "\n",
        "[5 rows x 15 columns]"
       ]
      }
     ],
     "prompt_number": 3
    },
    {
     "cell_type": "code",
     "collapsed": false,
     "input": [
      "cols_to_retain = ['Month','Day_of_Week','Hour_of_day','Start_Station','Subscription_Type']\n",
      "sfrides_features_df = sfrides[ cols_to_retain ]\n",
      "sfrides_features_dict = sfrides_features_df.T.to_dict().values()"
     ],
     "language": "python",
     "metadata": {},
     "outputs": [],
     "prompt_number": 4
    },
    {
     "cell_type": "code",
     "collapsed": false,
     "input": [
      "from sklearn.feature_extraction import DictVectorizer as DV\n",
      "\n",
      "vectorizer = DV( sparse = False )\n",
      "vec_features_sfrides = vectorizer.fit_transform(sfrides_features_dict)"
     ],
     "language": "python",
     "metadata": {},
     "outputs": [],
     "prompt_number": 5
    },
    {
     "cell_type": "code",
     "collapsed": false,
     "input": [
      "cols_to_retainx = ['End_Station_Neighborhood']\n",
      "sfrides_target_df = sfrides[ cols_to_retainx ]\n",
      "sfrides_target_dict = sfrides_target_df.T.to_dict().values()"
     ],
     "language": "python",
     "metadata": {},
     "outputs": [],
     "prompt_number": 6
    },
    {
     "cell_type": "code",
     "collapsed": false,
     "input": [
      "vectorizer.get_feature_names()"
     ],
     "language": "python",
     "metadata": {},
     "outputs": [
      {
       "metadata": {},
       "output_type": "pyout",
       "prompt_number": 7,
       "text": [
        "['Day_of_Week=Fri',\n",
        " 'Day_of_Week=Mon',\n",
        " 'Day_of_Week=Sat',\n",
        " 'Day_of_Week=Sun',\n",
        " 'Day_of_Week=Thu',\n",
        " 'Day_of_Week=Tue',\n",
        " 'Day_of_Week=Wed',\n",
        " 'Hour_of_day',\n",
        " 'Month=Aug',\n",
        " 'Month=Dec',\n",
        " 'Month=Feb',\n",
        " 'Month=Jan',\n",
        " 'Month=Nov',\n",
        " 'Month=Oct',\n",
        " 'Month=Sep',\n",
        " 'Start_Station=2nd at Folsom',\n",
        " 'Start_Station=2nd at South Park',\n",
        " 'Start_Station=2nd at Townsend',\n",
        " 'Start_Station=5th at Howard',\n",
        " 'Start_Station=Beale at Market',\n",
        " 'Start_Station=Broadway St at Battery St',\n",
        " 'Start_Station=California Ave Caltrain Station',\n",
        " 'Start_Station=Civic Center BART (7th at Market)',\n",
        " 'Start_Station=Clay at Battery',\n",
        " 'Start_Station=Commercial at Montgomery',\n",
        " 'Start_Station=Davis at Jackson',\n",
        " 'Start_Station=Embarcadero at Bryant',\n",
        " 'Start_Station=Embarcadero at Folsom',\n",
        " 'Start_Station=Embarcadero at Sansome',\n",
        " 'Start_Station=Embarcadero at Vallejo',\n",
        " 'Start_Station=Golden Gate at Polk',\n",
        " 'Start_Station=Grant Avenue at Columbus Avenue',\n",
        " 'Start_Station=Harry Bridges Plaza (Ferry Building)',\n",
        " 'Start_Station=Howard at 2nd',\n",
        " 'Start_Station=Market at 10th',\n",
        " 'Start_Station=Market at 4th',\n",
        " 'Start_Station=Market at Sansome',\n",
        " 'Start_Station=Mechanics Plaza (Market at Battery)',\n",
        " 'Start_Station=Paseo de San Antonio',\n",
        " 'Start_Station=Post at Kearney',\n",
        " 'Start_Station=Powell Street BART',\n",
        " 'Start_Station=Powell at Post (Union Square)',\n",
        " 'Start_Station=Redwood City Caltrain Station',\n",
        " 'Start_Station=San Antonio Shopping Center',\n",
        " 'Start_Station=San Francisco Caltrain (Townsend at 4th)',\n",
        " 'Start_Station=San Francisco Caltrain 2 (330 Townsend)',\n",
        " 'Start_Station=San Francisco City Hall',\n",
        " 'Start_Station=San Jose Civic Center',\n",
        " 'Start_Station=South Van Ness at Market',\n",
        " 'Start_Station=Spear at Folsom',\n",
        " 'Start_Station=Steuart at Market',\n",
        " 'Start_Station=Temporary Transbay Terminal (Howard at Beale)',\n",
        " 'Start_Station=Townsend at 7th',\n",
        " 'Start_Station=Washington at Kearney',\n",
        " 'Start_Station=Yerba Buena Center of the Arts (3rd @ Howard)',\n",
        " 'Subscription_Type=Customer',\n",
        " 'Subscription_Type=Subscriber']"
       ]
      }
     ],
     "prompt_number": 7
    },
    {
     "cell_type": "code",
     "collapsed": false,
     "input": [
      "vec_target_sfrides = vectorizer.fit_transform(sfrides_target_dict)"
     ],
     "language": "python",
     "metadata": {},
     "outputs": [],
     "prompt_number": 8
    },
    {
     "cell_type": "code",
     "collapsed": false,
     "input": [
      "vectorizer.get_feature_names()"
     ],
     "language": "python",
     "metadata": {},
     "outputs": [
      {
       "metadata": {},
       "output_type": "pyout",
       "prompt_number": 9,
       "text": [
        "['End_Station_Neighborhood=Caltrain',\n",
        " 'End_Station_Neighborhood=Civic Center/Mid-Market',\n",
        " 'End_Station_Neighborhood=FiDi',\n",
        " 'End_Station_Neighborhood=North Beach/Telegraph',\n",
        " 'End_Station_Neighborhood=Soma',\n",
        " 'End_Station_Neighborhood=South Beach',\n",
        " 'End_Station_Neighborhood=Union Square']"
       ]
      }
     ],
     "prompt_number": 9
    },
    {
     "cell_type": "code",
     "collapsed": false,
     "input": [
      "from sklearn import tree"
     ],
     "language": "python",
     "metadata": {},
     "outputs": [],
     "prompt_number": 10
    },
    {
     "cell_type": "code",
     "collapsed": false,
     "input": [
      "clf = tree.DecisionTreeClassifier(max_depth=20, random_state=0)\n",
      "clf.fit(vec_features_sfrides, vec_target_sfrides)"
     ],
     "language": "python",
     "metadata": {},
     "outputs": [
      {
       "metadata": {},
       "output_type": "pyout",
       "prompt_number": 23,
       "text": [
        "DecisionTreeClassifier(compute_importances=None, criterion='gini',\n",
        "            max_depth=20, max_features=None, min_density=None,\n",
        "            min_samples_leaf=1, min_samples_split=2, random_state=0,\n",
        "            splitter='best')"
       ]
      }
     ],
     "prompt_number": 23
    },
    {
     "cell_type": "code",
     "collapsed": false,
     "input": [
      "scores = cross_val_score(clf, vec_features_sfrides, vec_target_sfrides, cv=3)\n",
      "print scores"
     ],
     "language": "python",
     "metadata": {},
     "outputs": [
      {
       "output_type": "stream",
       "stream": "stdout",
       "text": [
        "[ 0.  0.  0.]\n"
       ]
      }
     ],
     "prompt_number": 24
    },
    {
     "cell_type": "code",
     "collapsed": false,
     "input": [
      "from IPython.core.display import Image"
     ],
     "language": "python",
     "metadata": {},
     "outputs": [],
     "prompt_number": 25
    },
    {
     "cell_type": "code",
     "collapsed": false,
     "input": [
      "with open(\"sfrides.dot\", 'w') as f:\n",
      "    f = tree.export_graphviz(clf, out_file=f)\n",
      "! dot -Tpng sfrides.dot -o sfrides.png\n",
      "Image(\"sfrides.png\")"
     ],
     "language": "python",
     "metadata": {},
     "outputs": [
      {
       "output_type": "stream",
       "stream": "stdout",
       "text": [
        "^C\r\n"
       ]
      },
      {
       "metadata": {},
       "output_type": "pyout",
       "png": "",
       "prompt_number": 26,
       "text": [
        "<IPython.core.display.Image at 0x113281c50>"
       ]
      }
     ],
     "prompt_number": 26
    },
    {
     "cell_type": "markdown",
     "metadata": {},
     "source": [
      "####KNN"
     ]
    },
    {
     "cell_type": "code",
     "collapsed": false,
     "input": [
      "from sklearn.cross_validation import train_test_split\n",
      "X_train, X_test, y_train, y_test = train_test_split( vec_features_sfrides, vec_target_sfrides, test_size=0.20, random_state=0)\n",
      "from sklearn.neighbors import KNeighborsClassifier\n",
      "myknn = KNeighborsClassifier(3).fit(X_train,y_train)\n",
      "print \"Answer 1: KNN Score where k=5,\", round(myknn.score(X_test, y_test),3) "
     ],
     "language": "python",
     "metadata": {},
     "outputs": [
      {
       "output_type": "stream",
       "stream": "stdout",
       "text": [
        "Answer 1: KNN Score where k=5, "
       ]
      },
      {
       "output_type": "stream",
       "stream": "stdout",
       "text": [
        "0.217\n"
       ]
      }
     ],
     "prompt_number": 22
    },
    {
     "cell_type": "markdown",
     "metadata": {},
     "source": [
      "####Random Forest"
     ]
    },
    {
     "cell_type": "code",
     "collapsed": false,
     "input": [
      "from sklearn.ensemble import RandomForestClassifier\n",
      "\n",
      "clf2 = RandomForestClassifier(random_state=0)\n",
      "scores = cross_val_score(clf2, vec_features_sfrides, vec_target_sfrides, cv=3)\n",
      "print scores"
     ],
     "language": "python",
     "metadata": {},
     "outputs": [
      {
       "ename": "NameError",
       "evalue": "name 'mean' is not defined",
       "output_type": "pyerr",
       "traceback": [
        "\u001b[0;31m---------------------------------------------------------------------------\u001b[0m\n\u001b[0;31mNameError\u001b[0m                                 Traceback (most recent call last)",
        "\u001b[0;32m<ipython-input-124-9fc60cb3787f>\u001b[0m in \u001b[0;36m<module>\u001b[0;34m()\u001b[0m\n\u001b[1;32m      4\u001b[0m \u001b[0mscores\u001b[0m \u001b[0;34m=\u001b[0m \u001b[0mcross_val_score\u001b[0m\u001b[0;34m(\u001b[0m\u001b[0mclf2\u001b[0m\u001b[0;34m,\u001b[0m \u001b[0mvec_features_sfrides\u001b[0m\u001b[0;34m,\u001b[0m \u001b[0mvec_target_sfrides\u001b[0m\u001b[0;34m,\u001b[0m \u001b[0mcv\u001b[0m\u001b[0;34m=\u001b[0m\u001b[0;36m3\u001b[0m\u001b[0;34m)\u001b[0m\u001b[0;34m\u001b[0m\u001b[0m\n\u001b[1;32m      5\u001b[0m \u001b[0;32mprint\u001b[0m \u001b[0mscores\u001b[0m\u001b[0;34m\u001b[0m\u001b[0m\n\u001b[0;32m----> 6\u001b[0;31m \u001b[0;32mprint\u001b[0m \u001b[0mmean\u001b[0m\u001b[0;34m(\u001b[0m\u001b[0mscores\u001b[0m\u001b[0;34m)\u001b[0m\u001b[0;34m\u001b[0m\u001b[0m\n\u001b[0m",
        "\u001b[0;31mNameError\u001b[0m: name 'mean' is not defined"
       ]
      },
      {
       "output_type": "stream",
       "stream": "stdout",
       "text": [
        "[ 0.14285714  0.14285714  0.14285714]\n"
       ]
      }
     ],
     "prompt_number": 124
    },
    {
     "cell_type": "code",
     "collapsed": false,
     "input": [],
     "language": "python",
     "metadata": {},
     "outputs": []
    }
   ],
   "metadata": {}
  }
 ]
}