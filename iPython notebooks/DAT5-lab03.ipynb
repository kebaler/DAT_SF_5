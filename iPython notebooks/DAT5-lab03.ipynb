{
 "metadata": {
  "celltoolbar": "Slideshow",
  "name": ""
 },
 "nbformat": 3,
 "nbformat_minor": 0,
 "worksheets": [
  {
   "cells": [
    {
     "cell_type": "markdown",
     "metadata": {
      "slideshow": {
       "slide_type": "slide"
      }
     },
     "source": [
      "# GA Data Science 5 (DAT5) - Lab3\n",
      "\n",
      "### APIs, JSON\n",
      "\n",
      "Francesco Mosconi\n",
      "Chief Data Officer, [Spire Inc.](spire.io)\n",
      "\n",
      "Thanks to Alessandro Gagliardo for starting NB"
     ]
    },
    {
     "cell_type": "markdown",
     "metadata": {
      "slideshow": {
       "slide_type": "slide"
      }
     },
     "source": [
      "### Last Time:\n",
      "\n",
      "- #### iPython\n",
      "- #### numpy  \n",
      "- #### Pandas\n",
      "\n",
      "#### Questions?"
     ]
    },
    {
     "cell_type": "markdown",
     "metadata": {
      "slideshow": {
       "slide_type": "slide"
      }
     },
     "source": [
      "### Agenda\n",
      "\n",
      "1. JSON\n",
      "2. API "
     ]
    },
    {
     "cell_type": "heading",
     "level": 1,
     "metadata": {
      "slideshow": {
       "slide_type": "slide"
      }
     },
     "source": [
      "1. JSON"
     ]
    },
    {
     "cell_type": "markdown",
     "metadata": {
      "slideshow": {
       "slide_type": "slide"
      }
     },
     "source": [
      "- What's Json? (and why do we care?)"
     ]
    },
    {
     "cell_type": "code",
     "collapsed": false,
     "input": [
      "# load the homework data into a pandas dataset"
     ],
     "language": "python",
     "metadata": {},
     "outputs": [],
     "prompt_number": 1
    },
    {
     "cell_type": "code",
     "collapsed": false,
     "input": [
      "import pandas as pd\n",
      "\n",
      "data = pd.read_csv(\"data/titanic-train.csv\")"
     ],
     "language": "python",
     "metadata": {},
     "outputs": [],
     "prompt_number": 3
    },
    {
     "cell_type": "code",
     "collapsed": false,
     "input": [
      "# assign the first 5 rows to a variable called first"
     ],
     "language": "python",
     "metadata": {},
     "outputs": []
    },
    {
     "cell_type": "code",
     "collapsed": false,
     "input": [
      "first = data.head(5)"
     ],
     "language": "python",
     "metadata": {},
     "outputs": [],
     "prompt_number": 4
    },
    {
     "cell_type": "code",
     "collapsed": false,
     "input": [
      "first"
     ],
     "language": "python",
     "metadata": {},
     "outputs": [
      {
       "html": [
        "<div style=\"max-height:1000px;max-width:1500px;overflow:auto;\">\n",
        "<table border=\"1\" class=\"dataframe\">\n",
        "  <thead>\n",
        "    <tr style=\"text-align: right;\">\n",
        "      <th></th>\n",
        "      <th>PassengerId</th>\n",
        "      <th>Survived</th>\n",
        "      <th>Pclass</th>\n",
        "      <th>Name</th>\n",
        "      <th>Sex</th>\n",
        "      <th>Age</th>\n",
        "      <th>SibSp</th>\n",
        "      <th>Parch</th>\n",
        "      <th>Ticket</th>\n",
        "      <th>Fare</th>\n",
        "      <th>Cabin</th>\n",
        "      <th>Embarked</th>\n",
        "    </tr>\n",
        "  </thead>\n",
        "  <tbody>\n",
        "    <tr>\n",
        "      <th>0</th>\n",
        "      <td> 1</td>\n",
        "      <td> 0</td>\n",
        "      <td> 3</td>\n",
        "      <td>                           Braund, Mr. Owen Harris</td>\n",
        "      <td>   male</td>\n",
        "      <td> 22</td>\n",
        "      <td> 1</td>\n",
        "      <td> 0</td>\n",
        "      <td>        A/5 21171</td>\n",
        "      <td>  7.2500</td>\n",
        "      <td>  NaN</td>\n",
        "      <td> S</td>\n",
        "    </tr>\n",
        "    <tr>\n",
        "      <th>1</th>\n",
        "      <td> 2</td>\n",
        "      <td> 1</td>\n",
        "      <td> 1</td>\n",
        "      <td> Cumings, Mrs. John Bradley (Florence Briggs Th...</td>\n",
        "      <td> female</td>\n",
        "      <td> 38</td>\n",
        "      <td> 1</td>\n",
        "      <td> 0</td>\n",
        "      <td>         PC 17599</td>\n",
        "      <td> 71.2833</td>\n",
        "      <td>  C85</td>\n",
        "      <td> C</td>\n",
        "    </tr>\n",
        "    <tr>\n",
        "      <th>2</th>\n",
        "      <td> 3</td>\n",
        "      <td> 1</td>\n",
        "      <td> 3</td>\n",
        "      <td>                            Heikkinen, Miss. Laina</td>\n",
        "      <td> female</td>\n",
        "      <td> 26</td>\n",
        "      <td> 0</td>\n",
        "      <td> 0</td>\n",
        "      <td> STON/O2. 3101282</td>\n",
        "      <td>  7.9250</td>\n",
        "      <td>  NaN</td>\n",
        "      <td> S</td>\n",
        "    </tr>\n",
        "    <tr>\n",
        "      <th>3</th>\n",
        "      <td> 4</td>\n",
        "      <td> 1</td>\n",
        "      <td> 1</td>\n",
        "      <td>      Futrelle, Mrs. Jacques Heath (Lily May Peel)</td>\n",
        "      <td> female</td>\n",
        "      <td> 35</td>\n",
        "      <td> 1</td>\n",
        "      <td> 0</td>\n",
        "      <td>           113803</td>\n",
        "      <td> 53.1000</td>\n",
        "      <td> C123</td>\n",
        "      <td> S</td>\n",
        "    </tr>\n",
        "    <tr>\n",
        "      <th>4</th>\n",
        "      <td> 5</td>\n",
        "      <td> 0</td>\n",
        "      <td> 3</td>\n",
        "      <td>                          Allen, Mr. William Henry</td>\n",
        "      <td>   male</td>\n",
        "      <td> 35</td>\n",
        "      <td> 0</td>\n",
        "      <td> 0</td>\n",
        "      <td>           373450</td>\n",
        "      <td>  8.0500</td>\n",
        "      <td>  NaN</td>\n",
        "      <td> S</td>\n",
        "    </tr>\n",
        "  </tbody>\n",
        "</table>\n",
        "<p>5 rows \u00d7 12 columns</p>\n",
        "</div>"
       ],
       "metadata": {},
       "output_type": "pyout",
       "prompt_number": 5,
       "text": [
        "   PassengerId  Survived  Pclass  \\\n",
        "0            1         0       3   \n",
        "1            2         1       1   \n",
        "2            3         1       3   \n",
        "3            4         1       1   \n",
        "4            5         0       3   \n",
        "\n",
        "                                                Name     Sex  Age  SibSp  \\\n",
        "0                            Braund, Mr. Owen Harris    male   22      1   \n",
        "1  Cumings, Mrs. John Bradley (Florence Briggs Th...  female   38      1   \n",
        "2                             Heikkinen, Miss. Laina  female   26      0   \n",
        "3       Futrelle, Mrs. Jacques Heath (Lily May Peel)  female   35      1   \n",
        "4                           Allen, Mr. William Henry    male   35      0   \n",
        "\n",
        "   Parch            Ticket     Fare Cabin Embarked  \n",
        "0      0         A/5 21171   7.2500   NaN        S  \n",
        "1      0          PC 17599  71.2833   C85        C  \n",
        "2      0  STON/O2. 3101282   7.9250   NaN        S  \n",
        "3      0            113803  53.1000  C123        S  \n",
        "4      0            373450   8.0500   NaN        S  \n",
        "\n",
        "[5 rows x 12 columns]"
       ]
      }
     ],
     "prompt_number": 5
    },
    {
     "cell_type": "code",
     "collapsed": false,
     "input": [
      "# use the DataFrame method to_json to transform <first> into a json object"
     ],
     "language": "python",
     "metadata": {},
     "outputs": []
    },
    {
     "cell_type": "code",
     "collapsed": false,
     "input": [
      "first.to_json()"
     ],
     "language": "python",
     "metadata": {},
     "outputs": [
      {
       "metadata": {},
       "output_type": "pyout",
       "prompt_number": 6,
       "text": [
        "'{\"PassengerId\":{\"0\":1,\"1\":2,\"2\":3,\"3\":4,\"4\":5},\"Survived\":{\"0\":0,\"1\":1,\"2\":1,\"3\":1,\"4\":0},\"Pclass\":{\"0\":3,\"1\":1,\"2\":3,\"3\":1,\"4\":3},\"Name\":{\"0\":\"Braund, Mr. Owen Harris\",\"1\":\"Cumings, Mrs. John Bradley (Florence Briggs Thayer)\",\"2\":\"Heikkinen, Miss. Laina\",\"3\":\"Futrelle, Mrs. Jacques Heath (Lily May Peel)\",\"4\":\"Allen, Mr. William Henry\"},\"Sex\":{\"0\":\"male\",\"1\":\"female\",\"2\":\"female\",\"3\":\"female\",\"4\":\"male\"},\"Age\":{\"0\":22.0,\"1\":38.0,\"2\":26.0,\"3\":35.0,\"4\":35.0},\"SibSp\":{\"0\":1,\"1\":1,\"2\":0,\"3\":1,\"4\":0},\"Parch\":{\"0\":0,\"1\":0,\"2\":0,\"3\":0,\"4\":0},\"Ticket\":{\"0\":\"A\\\\/5 21171\",\"1\":\"PC 17599\",\"2\":\"STON\\\\/O2. 3101282\",\"3\":\"113803\",\"4\":\"373450\"},\"Fare\":{\"0\":7.25,\"1\":71.2833,\"2\":7.925,\"3\":53.1,\"4\":8.05},\"Cabin\":{\"0\":null,\"1\":\"C85\",\"2\":null,\"3\":\"C123\",\"4\":null},\"Embarked\":{\"0\":\"S\",\"1\":\"C\",\"2\":\"S\",\"3\":\"S\",\"4\":\"S\"}}'"
       ]
      }
     ],
     "prompt_number": 6
    },
    {
     "cell_type": "code",
     "collapsed": false,
     "input": [
      "# explore the different options in the to_json method"
     ],
     "language": "python",
     "metadata": {},
     "outputs": []
    },
    {
     "cell_type": "code",
     "collapsed": false,
     "input": [
      "first.to_json(orient = 'records')"
     ],
     "language": "python",
     "metadata": {},
     "outputs": [
      {
       "metadata": {},
       "output_type": "pyout",
       "prompt_number": 8,
       "text": [
        "'[{\"PassengerId\":1,\"Survived\":0,\"Pclass\":3,\"Name\":\"Braund, Mr. Owen Harris\",\"Sex\":\"male\",\"Age\":22.0,\"SibSp\":1,\"Parch\":0,\"Ticket\":\"A\\\\/5 21171\",\"Fare\":7.25,\"Cabin\":null,\"Embarked\":\"S\"},{\"PassengerId\":2,\"Survived\":1,\"Pclass\":1,\"Name\":\"Cumings, Mrs. John Bradley (Florence Briggs Thayer)\",\"Sex\":\"female\",\"Age\":38.0,\"SibSp\":1,\"Parch\":0,\"Ticket\":\"PC 17599\",\"Fare\":71.2833,\"Cabin\":\"C85\",\"Embarked\":\"C\"},{\"PassengerId\":3,\"Survived\":1,\"Pclass\":3,\"Name\":\"Heikkinen, Miss. Laina\",\"Sex\":\"female\",\"Age\":26.0,\"SibSp\":0,\"Parch\":0,\"Ticket\":\"STON\\\\/O2. 3101282\",\"Fare\":7.925,\"Cabin\":null,\"Embarked\":\"S\"},{\"PassengerId\":4,\"Survived\":1,\"Pclass\":1,\"Name\":\"Futrelle, Mrs. Jacques Heath (Lily May Peel)\",\"Sex\":\"female\",\"Age\":35.0,\"SibSp\":1,\"Parch\":0,\"Ticket\":\"113803\",\"Fare\":53.1,\"Cabin\":\"C123\",\"Embarked\":\"S\"},{\"PassengerId\":5,\"Survived\":0,\"Pclass\":3,\"Name\":\"Allen, Mr. William Henry\",\"Sex\":\"male\",\"Age\":35.0,\"SibSp\":0,\"Parch\":0,\"Ticket\":\"373450\",\"Fare\":8.05,\"Cabin\":null,\"Embarked\":\"S\"}]'"
       ]
      }
     ],
     "prompt_number": 8
    },
    {
     "cell_type": "code",
     "collapsed": false,
     "input": [
      "# discussion"
     ],
     "language": "python",
     "metadata": {},
     "outputs": []
    },
    {
     "cell_type": "markdown",
     "metadata": {},
     "source": [
      "# 2. APIs"
     ]
    },
    {
     "cell_type": "markdown",
     "metadata": {},
     "source": [
      "- What's an API? (and why do we care?)"
     ]
    },
    {
     "cell_type": "markdown",
     "metadata": {},
     "source": [
      "## 2.a A simple web request"
     ]
    },
    {
     "cell_type": "code",
     "collapsed": false,
     "input": [
      "import urllib\n",
      "\n",
      "def get_historical_prices(symbol, start_date, end_date):\n",
      "    \"\"\"\n",
      "    Get historical prices for the given ticker symbol.\n",
      "    Date format is 'YYYYMMDD'\n",
      "    \n",
      "    Returns a json list.\n",
      "    \"\"\"\n",
      "    url = 'http://ichart.yahoo.com/table.csv?s=%s&' % symbol + \\\n",
      "          'd=%s&' % str(int(end_date[4:6]) - 1) + \\\n",
      "          'e=%s&' % str(int(end_date[6:8])) + \\\n",
      "          'f=%s&' % str(int(end_date[0:4])) + \\\n",
      "          'g=d&' + \\\n",
      "          'a=%s&' % str(int(start_date[4:6]) - 1) + \\\n",
      "          'b=%s&' % str(int(start_date[6:8])) + \\\n",
      "          'c=%s&' % str(int(start_date[0:4])) + \\\n",
      "          'ignore=.csv'\n",
      "    days = urllib.urlopen(url).readlines()\n",
      "    data = [day[:-2].split(',') for day in days]\n",
      "    return data"
     ],
     "language": "python",
     "metadata": {},
     "outputs": [],
     "prompt_number": 21
    },
    {
     "cell_type": "code",
     "collapsed": false,
     "input": [
      "get_historical_prices('GOOG', '20140101', '20140106')"
     ],
     "language": "python",
     "metadata": {},
     "outputs": [
      {
       "metadata": {},
       "output_type": "pyout",
       "prompt_number": 22,
       "text": [
        "[['Date', 'Open', 'High', 'Low', 'Close', 'Volume', 'Adj Clos'],\n",
        " ['2014-01-06',\n",
        "  '1113.01',\n",
        "  '1118.86',\n",
        "  '1106.44',\n",
        "  '1117.32',\n",
        "  '1769300',\n",
        "  '1117.3'],\n",
        " ['2014-01-03',\n",
        "  '1115.00',\n",
        "  '1116.93',\n",
        "  '1104.93',\n",
        "  '1105.00',\n",
        "  '1666700',\n",
        "  '1105.0'],\n",
        " ['2014-01-02',\n",
        "  '1115.46',\n",
        "  '1117.75',\n",
        "  '1108.26',\n",
        "  '1113.12',\n",
        "  '1821400',\n",
        "  '1113.1']]"
       ]
      }
     ],
     "prompt_number": 22
    },
    {
     "cell_type": "code",
     "collapsed": false,
     "input": [
      "# obtain the prices of Yahoo for the past month and insert them in a Pandas Dataframe\n"
     ],
     "language": "python",
     "metadata": {},
     "outputs": []
    },
    {
     "cell_type": "code",
     "collapsed": false,
     "input": [
      "prices = get_historical_prices('YHOO', '20140217', '20140317')\n",
      "\n",
      "df = pd.DataFrame(prices[1:], columns = prices[0]).set_index('Date')\n",
      "df.head()"
     ],
     "language": "python",
     "metadata": {},
     "outputs": [
      {
       "html": [
        "<div style=\"max-height:1000px;max-width:1500px;overflow:auto;\">\n",
        "<table border=\"1\" class=\"dataframe\">\n",
        "  <thead>\n",
        "    <tr style=\"text-align: right;\">\n",
        "      <th></th>\n",
        "      <th>Open</th>\n",
        "      <th>High</th>\n",
        "      <th>Low</th>\n",
        "      <th>Close</th>\n",
        "      <th>Volume</th>\n",
        "      <th>Adj Clos</th>\n",
        "    </tr>\n",
        "    <tr>\n",
        "      <th>Date</th>\n",
        "      <th></th>\n",
        "      <th></th>\n",
        "      <th></th>\n",
        "      <th></th>\n",
        "      <th></th>\n",
        "      <th></th>\n",
        "    </tr>\n",
        "  </thead>\n",
        "  <tbody>\n",
        "    <tr>\n",
        "      <th>2014-03-17</th>\n",
        "      <td> 39.00</td>\n",
        "      <td> 39.36</td>\n",
        "      <td> 38.61</td>\n",
        "      <td> 39.11</td>\n",
        "      <td> 29627500</td>\n",
        "      <td> 39.1</td>\n",
        "    </tr>\n",
        "    <tr>\n",
        "      <th>2014-03-14</th>\n",
        "      <td> 36.69</td>\n",
        "      <td> 38.19</td>\n",
        "      <td> 36.45</td>\n",
        "      <td> 37.60</td>\n",
        "      <td> 30842700</td>\n",
        "      <td> 37.6</td>\n",
        "    </tr>\n",
        "    <tr>\n",
        "      <th>2014-03-13</th>\n",
        "      <td> 38.05</td>\n",
        "      <td> 38.42</td>\n",
        "      <td> 36.81</td>\n",
        "      <td> 37.23</td>\n",
        "      <td> 21179700</td>\n",
        "      <td> 37.2</td>\n",
        "    </tr>\n",
        "    <tr>\n",
        "      <th>2014-03-12</th>\n",
        "      <td> 37.21</td>\n",
        "      <td> 37.61</td>\n",
        "      <td> 36.48</td>\n",
        "      <td> 37.50</td>\n",
        "      <td> 14794700</td>\n",
        "      <td> 37.5</td>\n",
        "    </tr>\n",
        "    <tr>\n",
        "      <th>2014-03-11</th>\n",
        "      <td> 38.25</td>\n",
        "      <td> 38.30</td>\n",
        "      <td> 37.43</td>\n",
        "      <td> 37.56</td>\n",
        "      <td> 12609200</td>\n",
        "      <td> 37.5</td>\n",
        "    </tr>\n",
        "  </tbody>\n",
        "</table>\n",
        "<p>5 rows \u00d7 6 columns</p>\n",
        "</div>"
       ],
       "metadata": {},
       "output_type": "pyout",
       "prompt_number": 26,
       "text": [
        "             Open   High    Low  Close    Volume Adj Clos\n",
        "Date                                                     \n",
        "2014-03-17  39.00  39.36  38.61  39.11  29627500     39.1\n",
        "2014-03-14  36.69  38.19  36.45  37.60  30842700     37.6\n",
        "2014-03-13  38.05  38.42  36.81  37.23  21179700     37.2\n",
        "2014-03-12  37.21  37.61  36.48  37.50  14794700     37.5\n",
        "2014-03-11  38.25  38.30  37.43  37.56  12609200     37.5\n",
        "\n",
        "[5 rows x 6 columns]"
       ]
      }
     ],
     "prompt_number": 26
    },
    {
     "cell_type": "code",
     "collapsed": false,
     "input": [
      "# use the DataFrame method plot() to plot the Open, High, Low, Close curves\n",
      "df.plot('Open', 'High', 'Low', 'Close')"
     ],
     "language": "python",
     "metadata": {},
     "outputs": [
      {
       "ename": "TypeError",
       "evalue": "Empty 'Series': no numeric data to plot",
       "output_type": "pyerr",
       "traceback": [
        "\u001b[0;31m---------------------------------------------------------------------------\u001b[0m\n\u001b[0;31mTypeError\u001b[0m                                 Traceback (most recent call last)",
        "\u001b[0;32m<ipython-input-28-9ab306242189>\u001b[0m in \u001b[0;36m<module>\u001b[0;34m()\u001b[0m\n\u001b[1;32m      1\u001b[0m \u001b[0;31m# use the DataFrame method plot() to plot the Open, High, Low, Close curves\u001b[0m\u001b[0;34m\u001b[0m\u001b[0;34m\u001b[0m\u001b[0m\n\u001b[0;32m----> 2\u001b[0;31m \u001b[0mdf\u001b[0m\u001b[0;34m.\u001b[0m\u001b[0mplot\u001b[0m\u001b[0;34m(\u001b[0m\u001b[0;34m'Open'\u001b[0m\u001b[0;34m,\u001b[0m \u001b[0;34m'High'\u001b[0m\u001b[0;34m,\u001b[0m \u001b[0;34m'Low'\u001b[0m\u001b[0;34m,\u001b[0m \u001b[0;34m'Close'\u001b[0m\u001b[0;34m)\u001b[0m\u001b[0;34m\u001b[0m\u001b[0m\n\u001b[0m",
        "\u001b[0;32m/Users/mjkeba/anaconda/lib/python2.7/site-packages/pandas/tools/plotting.pyc\u001b[0m in \u001b[0;36mplot_frame\u001b[0;34m(frame, x, y, subplots, sharex, sharey, use_index, figsize, grid, legend, rot, ax, style, title, xlim, ylim, logx, logy, xticks, yticks, kind, sort_columns, fontsize, secondary_y, **kwds)\u001b[0m\n\u001b[1;32m   1722\u001b[0m                                \u001b[0mgrid\u001b[0m\u001b[0;34m=\u001b[0m\u001b[0mgrid\u001b[0m\u001b[0;34m,\u001b[0m \u001b[0mlogx\u001b[0m\u001b[0;34m=\u001b[0m\u001b[0mlogx\u001b[0m\u001b[0;34m,\u001b[0m \u001b[0mlogy\u001b[0m\u001b[0;34m=\u001b[0m\u001b[0mlogy\u001b[0m\u001b[0;34m,\u001b[0m\u001b[0;34m\u001b[0m\u001b[0m\n\u001b[1;32m   1723\u001b[0m                                \u001b[0msecondary_y\u001b[0m\u001b[0;34m=\u001b[0m\u001b[0msecondary_y\u001b[0m\u001b[0;34m,\u001b[0m \u001b[0mtitle\u001b[0m\u001b[0;34m=\u001b[0m\u001b[0mtitle\u001b[0m\u001b[0;34m,\u001b[0m\u001b[0;34m\u001b[0m\u001b[0m\n\u001b[0;32m-> 1724\u001b[0;31m                                figsize=figsize, fontsize=fontsize, **kwds)\n\u001b[0m\u001b[1;32m   1725\u001b[0m \u001b[0;34m\u001b[0m\u001b[0m\n\u001b[1;32m   1726\u001b[0m         \u001b[0;32melse\u001b[0m\u001b[0;34m:\u001b[0m\u001b[0;34m\u001b[0m\u001b[0m\n",
        "\u001b[0;32m/Users/mjkeba/anaconda/lib/python2.7/site-packages/pandas/tools/plotting.pyc\u001b[0m in \u001b[0;36mplot_series\u001b[0;34m(series, label, kind, use_index, rot, xticks, yticks, xlim, ylim, ax, style, grid, legend, logx, logy, secondary_y, **kwds)\u001b[0m\n\u001b[1;32m   1827\u001b[0m                      secondary_y=secondary_y, **kwds)\n\u001b[1;32m   1828\u001b[0m \u001b[0;34m\u001b[0m\u001b[0m\n\u001b[0;32m-> 1829\u001b[0;31m     \u001b[0mplot_obj\u001b[0m\u001b[0;34m.\u001b[0m\u001b[0mgenerate\u001b[0m\u001b[0;34m(\u001b[0m\u001b[0;34m)\u001b[0m\u001b[0;34m\u001b[0m\u001b[0m\n\u001b[0m\u001b[1;32m   1830\u001b[0m     \u001b[0mplot_obj\u001b[0m\u001b[0;34m.\u001b[0m\u001b[0mdraw\u001b[0m\u001b[0;34m(\u001b[0m\u001b[0;34m)\u001b[0m\u001b[0;34m\u001b[0m\u001b[0m\n\u001b[1;32m   1831\u001b[0m \u001b[0;34m\u001b[0m\u001b[0m\n",
        "\u001b[0;32m/Users/mjkeba/anaconda/lib/python2.7/site-packages/pandas/tools/plotting.pyc\u001b[0m in \u001b[0;36mgenerate\u001b[0;34m(self)\u001b[0m\n\u001b[1;32m    901\u001b[0m     \u001b[0;32mdef\u001b[0m \u001b[0mgenerate\u001b[0m\u001b[0;34m(\u001b[0m\u001b[0mself\u001b[0m\u001b[0;34m)\u001b[0m\u001b[0;34m:\u001b[0m\u001b[0;34m\u001b[0m\u001b[0m\n\u001b[1;32m    902\u001b[0m         \u001b[0mself\u001b[0m\u001b[0;34m.\u001b[0m\u001b[0m_args_adjust\u001b[0m\u001b[0;34m(\u001b[0m\u001b[0;34m)\u001b[0m\u001b[0;34m\u001b[0m\u001b[0m\n\u001b[0;32m--> 903\u001b[0;31m         \u001b[0mself\u001b[0m\u001b[0;34m.\u001b[0m\u001b[0m_compute_plot_data\u001b[0m\u001b[0;34m(\u001b[0m\u001b[0;34m)\u001b[0m\u001b[0;34m\u001b[0m\u001b[0m\n\u001b[0m\u001b[1;32m    904\u001b[0m         \u001b[0mself\u001b[0m\u001b[0;34m.\u001b[0m\u001b[0m_setup_subplots\u001b[0m\u001b[0;34m(\u001b[0m\u001b[0;34m)\u001b[0m\u001b[0;34m\u001b[0m\u001b[0m\n\u001b[1;32m    905\u001b[0m         \u001b[0mself\u001b[0m\u001b[0;34m.\u001b[0m\u001b[0m_make_plot\u001b[0m\u001b[0;34m(\u001b[0m\u001b[0;34m)\u001b[0m\u001b[0;34m\u001b[0m\u001b[0m\n",
        "\u001b[0;32m/Users/mjkeba/anaconda/lib/python2.7/site-packages/pandas/tools/plotting.pyc\u001b[0m in \u001b[0;36m_compute_plot_data\u001b[0;34m(self)\u001b[0m\n\u001b[1;32m    982\u001b[0m         \u001b[0;32mif\u001b[0m \u001b[0mis_empty\u001b[0m\u001b[0;34m:\u001b[0m\u001b[0;34m\u001b[0m\u001b[0m\n\u001b[1;32m    983\u001b[0m             raise TypeError('Empty {0!r}: no numeric data to '\n\u001b[0;32m--> 984\u001b[0;31m                             'plot'.format(numeric_data.__class__.__name__))\n\u001b[0m\u001b[1;32m    985\u001b[0m \u001b[0;34m\u001b[0m\u001b[0m\n\u001b[1;32m    986\u001b[0m         \u001b[0mself\u001b[0m\u001b[0;34m.\u001b[0m\u001b[0mdata\u001b[0m \u001b[0;34m=\u001b[0m \u001b[0mnumeric_data\u001b[0m\u001b[0;34m\u001b[0m\u001b[0m\n",
        "\u001b[0;31mTypeError\u001b[0m: Empty 'Series': no numeric data to plot"
       ]
      }
     ],
     "prompt_number": 28
    },
    {
     "cell_type": "code",
     "collapsed": false,
     "input": [],
     "language": "python",
     "metadata": {},
     "outputs": []
    },
    {
     "cell_type": "markdown",
     "metadata": {},
     "source": [
      "## 2.b Unstructured data"
     ]
    },
    {
     "cell_type": "markdown",
     "metadata": {
      "slideshow": {
       "slide_type": "slide"
      }
     },
     "source": [
      "#### HTTP requests can be handled easily using Python's `requests` library.\n",
      "\n",
      "First we will load our credentials which we keep in a [YAML](http://www.yaml.org/) file for safe keeping."
     ]
    },
    {
     "cell_type": "code",
     "collapsed": false,
     "input": [
      "import yaml\n",
      "credentials = yaml.load(open('/Users/mjkeba/api_cred.yml'))"
     ],
     "language": "python",
     "metadata": {
      "slideshow": {
       "slide_type": "fragment"
      }
     },
     "outputs": [
      {
       "ename": "IOError",
       "evalue": "[Errno 2] No such file or directory: '/Users/mjkeba/api_cred.yml'",
       "output_type": "pyerr",
       "traceback": [
        "\u001b[0;31m---------------------------------------------------------------------------\u001b[0m\n\u001b[0;31mIOError\u001b[0m                                   Traceback (most recent call last)",
        "\u001b[0;32m<ipython-input-34-90fdb3771416>\u001b[0m in \u001b[0;36m<module>\u001b[0;34m()\u001b[0m\n\u001b[1;32m      1\u001b[0m \u001b[0;32mimport\u001b[0m \u001b[0myaml\u001b[0m\u001b[0;34m\u001b[0m\u001b[0m\n\u001b[0;32m----> 2\u001b[0;31m \u001b[0mcredentials\u001b[0m \u001b[0;34m=\u001b[0m \u001b[0myaml\u001b[0m\u001b[0;34m.\u001b[0m\u001b[0mload\u001b[0m\u001b[0;34m(\u001b[0m\u001b[0mopen\u001b[0m\u001b[0;34m(\u001b[0m\u001b[0;34m'/Users/mjkeba/api_cred.yml'\u001b[0m\u001b[0;34m)\u001b[0m\u001b[0;34m)\u001b[0m\u001b[0;34m\u001b[0m\u001b[0m\n\u001b[0m",
        "\u001b[0;31mIOError\u001b[0m: [Errno 2] No such file or directory: '/Users/mjkeba/api_cred.yml'"
       ]
      }
     ],
     "prompt_number": 34
    },
    {
     "cell_type": "markdown",
     "metadata": {
      "slideshow": {
       "slide_type": "fragment"
      }
     },
     "source": [
      "Then we pass those credentials in to a GET request using the requests library. In this case, I am querying my own user data from Github:"
     ]
    },
    {
     "cell_type": "code",
     "collapsed": false,
     "input": [
      "import requests\n",
      "r = requests.get('https://api.github.com/user', \n",
      "                 auth=(credentials['USER'], credentials['PASS']))"
     ],
     "language": "python",
     "metadata": {
      "slideshow": {
       "slide_type": "fragment"
      }
     },
     "outputs": [
      {
       "ename": "NameError",
       "evalue": "name 'credentials' is not defined",
       "output_type": "pyerr",
       "traceback": [
        "\u001b[0;31m---------------------------------------------------------------------------\u001b[0m\n\u001b[0;31mNameError\u001b[0m                                 Traceback (most recent call last)",
        "\u001b[0;32m<ipython-input-35-f21b39bfab37>\u001b[0m in \u001b[0;36m<module>\u001b[0;34m()\u001b[0m\n\u001b[1;32m      1\u001b[0m \u001b[0;32mimport\u001b[0m \u001b[0mrequests\u001b[0m\u001b[0;34m\u001b[0m\u001b[0m\n\u001b[1;32m      2\u001b[0m r = requests.get('https://api.github.com/user', \n\u001b[0;32m----> 3\u001b[0;31m                  auth=(credentials['USER'], credentials['PASS']))\n\u001b[0m",
        "\u001b[0;31mNameError\u001b[0m: name 'credentials' is not defined"
       ]
      }
     ],
     "prompt_number": 35
    },
    {
     "cell_type": "markdown",
     "metadata": {
      "slideshow": {
       "slide_type": "fragment"
      }
     },
     "source": [
      "Requests gives us an object from which we can read its content."
     ]
    },
    {
     "cell_type": "code",
     "collapsed": false,
     "input": [
      "r.content"
     ],
     "language": "python",
     "metadata": {
      "slideshow": {
       "slide_type": "fragment"
      }
     },
     "outputs": [
      {
       "ename": "NameError",
       "evalue": "name 'r' is not defined",
       "output_type": "pyerr",
       "traceback": [
        "\u001b[0;31m---------------------------------------------------------------------------\u001b[0m\n\u001b[0;31mNameError\u001b[0m                                 Traceback (most recent call last)",
        "\u001b[0;32m<ipython-input-33-9869ca2daf96>\u001b[0m in \u001b[0;36m<module>\u001b[0;34m()\u001b[0m\n\u001b[0;32m----> 1\u001b[0;31m \u001b[0mr\u001b[0m\u001b[0;34m.\u001b[0m\u001b[0mcontent\u001b[0m\u001b[0;34m\u001b[0m\u001b[0m\n\u001b[0m",
        "\u001b[0;31mNameError\u001b[0m: name 'r' is not defined"
       ]
      }
     ],
     "prompt_number": 33
    },
    {
     "cell_type": "markdown",
     "metadata": {
      "slideshow": {
       "slide_type": "subslide"
      }
     },
     "source": [
      "#### One of the reasons we like JSON is that it is easy to transform into a Python `dict` object using the `json` library:"
     ]
    },
    {
     "cell_type": "code",
     "collapsed": false,
     "input": [
      "import json\n",
      "user = json.loads(r.content)\n",
      "user"
     ],
     "language": "python",
     "metadata": {
      "slideshow": {
       "slide_type": "fragment"
      }
     },
     "outputs": [
      {
       "ename": "NameError",
       "evalue": "name 'r' is not defined",
       "output_type": "pyerr",
       "traceback": [
        "\u001b[0;31m---------------------------------------------------------------------------\u001b[0m\n\u001b[0;31mNameError\u001b[0m                                 Traceback (most recent call last)",
        "\u001b[0;32m<ipython-input-32-c88805c3301e>\u001b[0m in \u001b[0;36m<module>\u001b[0;34m()\u001b[0m\n\u001b[1;32m      1\u001b[0m \u001b[0;32mimport\u001b[0m \u001b[0mjson\u001b[0m\u001b[0;34m\u001b[0m\u001b[0m\n\u001b[0;32m----> 2\u001b[0;31m \u001b[0muser\u001b[0m \u001b[0;34m=\u001b[0m \u001b[0mjson\u001b[0m\u001b[0;34m.\u001b[0m\u001b[0mloads\u001b[0m\u001b[0;34m(\u001b[0m\u001b[0mr\u001b[0m\u001b[0;34m.\u001b[0m\u001b[0mcontent\u001b[0m\u001b[0;34m)\u001b[0m\u001b[0;34m\u001b[0m\u001b[0m\n\u001b[0m\u001b[1;32m      3\u001b[0m \u001b[0muser\u001b[0m\u001b[0;34m\u001b[0m\u001b[0m\n",
        "\u001b[0;31mNameError\u001b[0m: name 'r' is not defined"
       ]
      }
     ],
     "prompt_number": 32
    },
    {
     "cell_type": "code",
     "collapsed": false,
     "input": [
      "print user.keys()"
     ],
     "language": "python",
     "metadata": {
      "slideshow": {
       "slide_type": "skip"
      }
     },
     "outputs": [],
     "prompt_number": 104
    },
    {
     "cell_type": "markdown",
     "metadata": {
      "slideshow": {
       "slide_type": "subslide"
      }
     },
     "source": [
      "We can access values in this dict directly (such as my hireable status) and even render the url of my avatar:"
     ]
    },
    {
     "cell_type": "code",
     "collapsed": false,
     "input": [
      "from IPython.display import HTML\n",
      "print \"Hireable: {}\".format(user.get('hireable'))\n",
      "HTML('<img src={} />'.format(user.get('avatar_url')))"
     ],
     "language": "python",
     "metadata": {
      "slideshow": {
       "slide_type": "fragment"
      }
     },
     "outputs": [],
     "prompt_number": 104
    },
    {
     "cell_type": "heading",
     "level": 1,
     "metadata": {
      "slideshow": {
       "slide_type": "slide"
      }
     },
     "source": [
      "Twitter API"
     ]
    },
    {
     "cell_type": "markdown",
     "metadata": {
      "slideshow": {
       "slide_type": "notes"
      }
     },
     "source": [
      "Twitter has no less than 10 python libraries. We'll be using Python Twitter Tools because it's what's used in Mining the Social Web."
     ]
    },
    {
     "cell_type": "markdown",
     "metadata": {
      "slideshow": {
       "slide_type": "skip"
      }
     },
     "source": [
      "#### Some services (like Twitter) have released Python libraries of their own to make using their API even easier."
     ]
    },
    {
     "cell_type": "code",
     "collapsed": false,
     "input": [
      "import twitter\n",
      "\n",
      "auth = twitter.oauth.OAuth(credentials['OAUTH_TOKEN'], \n",
      "                           credentials['OAUTH_TOKEN_SECRET'],\n",
      "                           credentials['CONSUMER_KEY'],\n",
      "                           credentials['CONSUMER_SECRET'])\n",
      "\n",
      "twitter_api = twitter.Twitter(auth=auth)\n",
      "\n",
      "print twitter_api"
     ],
     "language": "python",
     "metadata": {
      "slideshow": {
       "slide_type": "slide"
      }
     },
     "outputs": [
      {
       "ename": "ImportError",
       "evalue": "No module named twitter",
       "output_type": "pyerr",
       "traceback": [
        "\u001b[0;31m---------------------------------------------------------------------------\u001b[0m\n\u001b[0;31mImportError\u001b[0m                               Traceback (most recent call last)",
        "\u001b[0;32m<ipython-input-36-2efd6c59d756>\u001b[0m in \u001b[0;36m<module>\u001b[0;34m()\u001b[0m\n\u001b[0;32m----> 1\u001b[0;31m \u001b[0;32mimport\u001b[0m \u001b[0mtwitter\u001b[0m\u001b[0;34m\u001b[0m\u001b[0m\n\u001b[0m\u001b[1;32m      2\u001b[0m \u001b[0;34m\u001b[0m\u001b[0m\n\u001b[1;32m      3\u001b[0m auth = twitter.oauth.OAuth(credentials['OAUTH_TOKEN'], \n\u001b[1;32m      4\u001b[0m                            \u001b[0mcredentials\u001b[0m\u001b[0;34m[\u001b[0m\u001b[0;34m'OAUTH_TOKEN_SECRET'\u001b[0m\u001b[0;34m]\u001b[0m\u001b[0;34m,\u001b[0m\u001b[0;34m\u001b[0m\u001b[0m\n\u001b[1;32m      5\u001b[0m                            \u001b[0mcredentials\u001b[0m\u001b[0;34m[\u001b[0m\u001b[0;34m'CONSUMER_KEY'\u001b[0m\u001b[0;34m]\u001b[0m\u001b[0;34m,\u001b[0m\u001b[0;34m\u001b[0m\u001b[0m\n",
        "\u001b[0;31mImportError\u001b[0m: No module named twitter"
       ]
      }
     ],
     "prompt_number": 36
    },
    {
     "cell_type": "markdown",
     "metadata": {
      "slideshow": {
       "slide_type": "skip"
      }
     },
     "source": [
      "#### Using a library like this, we don't even need to specify the URL (that's handled internally)."
     ]
    },
    {
     "cell_type": "markdown",
     "metadata": {
      "slideshow": {
       "slide_type": "slide"
      }
     },
     "source": [
      "Using a library like this, it's easy to do something like search for tweets mentioning `#bigdata`  \n",
      "\n",
      "The results are transformed into a Python object (which in this case is a thin wrapper around a `dict`)"
     ]
    },
    {
     "cell_type": "code",
     "collapsed": false,
     "input": [
      "bigdata = twitter_api.search.tweets(q='#bigdata', count=5)\n",
      "type(bigdata)"
     ],
     "language": "python",
     "metadata": {
      "slideshow": {
       "slide_type": "fragment"
      }
     },
     "outputs": [],
     "prompt_number": 104
    },
    {
     "cell_type": "code",
     "collapsed": false,
     "input": [
      "for status in bigdata['statuses']:\n",
      "    print status.get('text')"
     ],
     "language": "python",
     "metadata": {
      "slideshow": {
       "slide_type": "fragment"
      }
     },
     "outputs": [],
     "prompt_number": 104
    },
    {
     "cell_type": "markdown",
     "metadata": {
      "slideshow": {
       "slide_type": "slide"
      }
     },
     "source": [
      "# Twitter lab\n",
      "[http://tinyurl.com/GAtwitterlab](http://nbviewer.ipython.org/github/ptwobrussell/Mining-the-Social-Web-2nd-Edition/blob/master/ipynb/Chapter%201%20-%20Mining%20Twitter.ipynb) up through Exercise 5"
     ]
    },
    {
     "cell_type": "markdown",
     "metadata": {},
     "source": [
      "Useful links:\n",
      "\n",
      "[Mining the Social Web](https://github.com/ptwobrussell/Mining-the-Social-Web-2nd-Edition)"
     ]
    },
    {
     "cell_type": "code",
     "collapsed": false,
     "input": [
      "!pip install twitter"
     ],
     "language": "python",
     "metadata": {},
     "outputs": [
      {
       "output_type": "stream",
       "stream": "stdout",
       "text": [
        "Downloading/unpacking twitter\r\n"
       ]
      },
      {
       "output_type": "stream",
       "stream": "stdout",
       "text": [
        "  Downloading twitter-1.14.1-py2.py3-none-any.whl (50kB): "
       ]
      },
      {
       "output_type": "stream",
       "stream": "stdout",
       "text": [
        "\r",
        "  Downloading twitter-1.14.1-py2.py3-none-any.whl (50kB):   8%  4.1kB\r",
        "  Downloading twitter-1.14.1-py2.py3-none-any.whl (50kB):  16%  8.2kB\r",
        "  Downloading twitter-1.14.1-py2.py3-none-any.whl (50kB):  24%  12kB "
       ]
      },
      {
       "output_type": "stream",
       "stream": "stdout",
       "text": [
        "\r",
        "  Downloading twitter-1.14.1-py2.py3-none-any.whl (50kB):  32%  16kB\r",
        "  Downloading twitter-1.14.1-py2.py3-none-any.whl (50kB):  40%  20kB\r",
        "  Downloading twitter-1.14.1-py2.py3-none-any.whl (50kB):  48%  24kB"
       ]
      },
      {
       "output_type": "stream",
       "stream": "stdout",
       "text": [
        "\r",
        "  Downloading twitter-1.14.1-py2.py3-none-any.whl (50kB):  57%  28kB\r",
        "  Downloading twitter-1.14.1-py2.py3-none-any.whl (50kB):  65%  32kB\r",
        "  Downloading twitter-1.14.1-py2.py3-none-any.whl (50kB):  73%  36kB\r",
        "  Downloading twitter-1.14.1-py2.py3-none-any.whl (50kB):  81%  40kB"
       ]
      },
      {
       "output_type": "stream",
       "stream": "stdout",
       "text": [
        "\r",
        "  Downloading twitter-1.14.1-py2.py3-none-any.whl (50kB):  89%  45kB\r",
        "  Downloading twitter-1.14.1-py2.py3-none-any.whl (50kB):  97%  49kB\r",
        "  Downloading twitter-1.14.1-py2.py3-none-any.whl (50kB): 100%  50kB\r",
        "  Downloading twitter-1.14.1-py2.py3-none-any.whl (50kB):           \r",
        "  Downloading twitter-1.14.1-py2.py3-none-any.whl (50kB): 50kB downloaded\r\n"
       ]
      },
      {
       "output_type": "stream",
       "stream": "stdout",
       "text": [
        "Installing collected packages: twitter\r\n"
       ]
      },
      {
       "output_type": "stream",
       "stream": "stdout",
       "text": [
        "Successfully installed twitter\r\n",
        "Cleaning up...\r\n"
       ]
      }
     ],
     "prompt_number": 37
    },
    {
     "cell_type": "code",
     "collapsed": false,
     "input": [
      "import twitter"
     ],
     "language": "python",
     "metadata": {},
     "outputs": [],
     "prompt_number": 38
    },
    {
     "cell_type": "code",
     "collapsed": false,
     "input": [
      "CONSUMER_KEY = 'iGCG2Nte9hlGP3vjkd21xQ'\n",
      "CONSUMER_SECRET ='jG4mOKjNrCxGwOT6MOnlwhUT7EkIKwMXs2gvfK38iQ'\n",
      "OAUTH_TOKEN = '47059003-ATP8VtifN1nO4MqKZhAW7QGs90Zfa4j9UF68GT971'\n",
      "OAUTH_TOKEN_SECRET = 'tPLC7NIBUmU5VRfZ5Kh0nqCis2fv8WLwhapWFRRTbeF6m'"
     ],
     "language": "python",
     "metadata": {},
     "outputs": [],
     "prompt_number": 39
    },
    {
     "cell_type": "code",
     "collapsed": false,
     "input": [
      "auth = twitter.oauth.OAuth(OAUTH_TOKEN, OAUTH_TOKEN_SECRET,\n",
      "                           CONSUMER_KEY, CONSUMER_SECRET)\n",
      "\n",
      "twitter_api = twitter.Twitter(auth=auth)\n",
      "\n",
      "# Nothing to see by displaying twitter_api except that it's now a\n",
      "# defined variable\n",
      "\n",
      "print twitter_api"
     ],
     "language": "python",
     "metadata": {},
     "outputs": [
      {
       "output_type": "stream",
       "stream": "stdout",
       "text": [
        "<twitter.api.Twitter object at 0x108230cd0>\n"
       ]
      }
     ],
     "prompt_number": 40
    },
    {
     "cell_type": "code",
     "collapsed": false,
     "input": [
      "# The Yahoo! Where On Earth ID for the entire world is 1.\n",
      "# See https://dev.twitter.com/docs/api/1.1/get/trends/place and\n",
      "# http://developer.yahoo.com/geo/geoplanet/\n",
      "\n",
      "WORLD_WOE_ID = 1\n",
      "US_WOE_ID = 23424977\n",
      "\n",
      "# Prefix ID with the underscore for query string parameterization.\n",
      "# Without the underscore, the twitter package appends the ID value\n",
      "# to the URL itself as a special case keyword argument.\n",
      "\n",
      "world_trends = twitter_api.trends.place(_id=WORLD_WOE_ID)\n",
      "us_trends = twitter_api.trends.place(_id=US_WOE_ID)\n",
      "\n",
      "print world_trends\n",
      "print\n",
      "print us_trends"
     ],
     "language": "python",
     "metadata": {},
     "outputs": [
      {
       "output_type": "stream",
       "stream": "stdout",
       "text": [
        "[{u'created_at': u'2014-03-18T04:06:20Z', u'trends': [{u'url': u'http://twitter.com/search?q=%23TOHEARTASC', u'query': u'%23TOHEARTASC', u'name': u'#TOHEARTASC', u'promoted_content': None, u'events': None}, {u'url': u'http://twitter.com/search?q=%23SabesQueTeEst%C3%A1sEnamorandoCuando', u'query': u'%23SabesQueTeEst%C3%A1sEnamorandoCuando', u'name': u'#SabesQueTeEst\\xe1sEnamorandoCuando', u'promoted_content': None, u'events': None}, {u'url': u'http://twitter.com/search?q=%23OjalaAlgunDia', u'query': u'%23OjalaAlgunDia', u'name': u'#OjalaAlgunDia', u'promoted_content': None, u'events': None}, {u'url': u'http://twitter.com/search?q=%23IndonesiaKitaJaya', u'query': u'%23IndonesiaKitaJaya', u'name': u'#IndonesiaKitaJaya', u'promoted_content': None, u'events': None}, {u'url': u'http://twitter.com/search?q=%23CosasDeMujeres', u'query': u'%23CosasDeMujeres', u'name': u'#CosasDeMujeres', u'promoted_content': None, u'events': None}, {u'url': u'http://twitter.com/search?q=Allison', u'query': u'Allison', u'name': u'Allison', u'promoted_content': None, u'events': None}, {u'url': u'http://twitter.com/search?q=%22Hey+Arnold%22', u'query': u'%22Hey+Arnold%22', u'name': u'Hey Arnold', u'promoted_content': None, u'events': None}, {u'url': u'http://twitter.com/search?q=Keisha', u'query': u'Keisha', u'name': u'Keisha', u'promoted_content': None, u'events': None}, {u'url': u'http://twitter.com/search?q=%22Dancing+with+the+Stars%22', u'query': u'%22Dancing+with+the+Stars%22', u'name': u'Dancing with the Stars', u'promoted_content': None, u'events': None}, {u'url': u'http://twitter.com/search?q=%22Luke+Bryan%22', u'query': u'%22Luke+Bryan%22', u'name': u'Luke Bryan', u'promoted_content': None, u'events': None}], u'as_of': u'2014-03-18T04:07:59Z', u'locations': [{u'woeid': 1, u'name': u'Worldwide'}]}]\n",
        "\n",
        "[{u'created_at': u'2014-03-18T04:06:20Z', u'trends': [{u'url': u'http://twitter.com/search?q=%23TOHEARTASC', u'query': u'%23TOHEARTASC', u'name': u'#TOHEARTASC', u'promoted_content': None, u'events': None}, {u'url': u'http://twitter.com/search?q=%23RIPAllison', u'query': u'%23RIPAllison', u'name': u'#RIPAllison', u'promoted_content': None, u'events': None}, {u'url': u'http://twitter.com/search?q=%23RollCallASC', u'query': u'%23RollCallASC', u'name': u'#RollCallASC', u'promoted_content': None, u'events': None}, {u'url': u'http://twitter.com/search?q=%23RonniesNewVideo', u'query': u'%23RonniesNewVideo', u'name': u'#RonniesNewVideo', u'promoted_content': None, u'events': None}, {u'url': u'http://twitter.com/search?q=%23YouCanStayIf', u'query': u'%23YouCanStayIf', u'name': u'#YouCanStayIf', u'promoted_content': None, u'events': None}, {u'url': u'http://twitter.com/search?q=%22James+Spader%22', u'query': u'%22James+Spader%22', u'name': u'James Spader', u'promoted_content': None, u'events': None}, {u'url': u'http://twitter.com/search?q=%22Jeff+Davis%22', u'query': u'%22Jeff+Davis%22', u'name': u'Jeff Davis', u'promoted_content': None, u'events': None}, {u'url': u'http://twitter.com/search?q=%22Teen+Wolf%22', u'query': u'%22Teen+Wolf%22', u'name': u'Teen Wolf', u'promoted_content': None, u'events': None}, {u'url': u'http://twitter.com/search?q=%22Hey+Arnold%22', u'query': u'%22Hey+Arnold%22', u'name': u'Hey Arnold', u'promoted_content': None, u'events': None}, {u'url': u'http://twitter.com/search?q=%22Luke+Bryan%22', u'query': u'%22Luke+Bryan%22', u'name': u'Luke Bryan', u'promoted_content': None, u'events': None}], u'as_of': u'2014-03-18T04:07:59Z', u'locations': [{u'woeid': 23424977, u'name': u'United States'}]}]\n"
       ]
      }
     ],
     "prompt_number": 41
    },
    {
     "cell_type": "code",
     "collapsed": false,
     "input": [
      "import json\n",
      "\n",
      "print json.dumps(world_trends, indent=1)\n",
      "print\n",
      "print json.dumps(us_trends, indent=1)"
     ],
     "language": "python",
     "metadata": {},
     "outputs": [
      {
       "output_type": "stream",
       "stream": "stdout",
       "text": [
        "[\n",
        " {\n",
        "  \"created_at\": \"2014-03-18T04:06:20Z\", \n",
        "  \"trends\": [\n",
        "   {\n",
        "    \"url\": \"http://twitter.com/search?q=%23TOHEARTASC\", \n",
        "    \"query\": \"%23TOHEARTASC\", \n",
        "    \"name\": \"#TOHEARTASC\", \n",
        "    \"promoted_content\": null, \n",
        "    \"events\": null\n",
        "   }, \n",
        "   {\n",
        "    \"url\": \"http://twitter.com/search?q=%23SabesQueTeEst%C3%A1sEnamorandoCuando\", \n",
        "    \"query\": \"%23SabesQueTeEst%C3%A1sEnamorandoCuando\", \n",
        "    \"name\": \"#SabesQueTeEst\\u00e1sEnamorandoCuando\", \n",
        "    \"promoted_content\": null, \n",
        "    \"events\": null\n",
        "   }, \n",
        "   {\n",
        "    \"url\": \"http://twitter.com/search?q=%23OjalaAlgunDia\", \n",
        "    \"query\": \"%23OjalaAlgunDia\", \n",
        "    \"name\": \"#OjalaAlgunDia\", \n",
        "    \"promoted_content\": null, \n",
        "    \"events\": null\n",
        "   }, \n",
        "   {\n",
        "    \"url\": \"http://twitter.com/search?q=%23IndonesiaKitaJaya\", \n",
        "    \"query\": \"%23IndonesiaKitaJaya\", \n",
        "    \"name\": \"#IndonesiaKitaJaya\", \n",
        "    \"promoted_content\": null, \n",
        "    \"events\": null\n",
        "   }, \n",
        "   {\n",
        "    \"url\": \"http://twitter.com/search?q=%23CosasDeMujeres\", \n",
        "    \"query\": \"%23CosasDeMujeres\", \n",
        "    \"name\": \"#CosasDeMujeres\", \n",
        "    \"promoted_content\": null, \n",
        "    \"events\": null\n",
        "   }, \n",
        "   {\n",
        "    \"url\": \"http://twitter.com/search?q=Allison\", \n",
        "    \"query\": \"Allison\", \n",
        "    \"name\": \"Allison\", \n",
        "    \"promoted_content\": null, \n",
        "    \"events\": null\n",
        "   }, \n",
        "   {\n",
        "    \"url\": \"http://twitter.com/search?q=%22Hey+Arnold%22\", \n",
        "    \"query\": \"%22Hey+Arnold%22\", \n",
        "    \"name\": \"Hey Arnold\", \n",
        "    \"promoted_content\": null, \n",
        "    \"events\": null\n",
        "   }, \n",
        "   {\n",
        "    \"url\": \"http://twitter.com/search?q=Keisha\", \n",
        "    \"query\": \"Keisha\", \n",
        "    \"name\": \"Keisha\", \n",
        "    \"promoted_content\": null, \n",
        "    \"events\": null\n",
        "   }, \n",
        "   {\n",
        "    \"url\": \"http://twitter.com/search?q=%22Dancing+with+the+Stars%22\", \n",
        "    \"query\": \"%22Dancing+with+the+Stars%22\", \n",
        "    \"name\": \"Dancing with the Stars\", \n",
        "    \"promoted_content\": null, \n",
        "    \"events\": null\n",
        "   }, \n",
        "   {\n",
        "    \"url\": \"http://twitter.com/search?q=%22Luke+Bryan%22\", \n",
        "    \"query\": \"%22Luke+Bryan%22\", \n",
        "    \"name\": \"Luke Bryan\", \n",
        "    \"promoted_content\": null, \n",
        "    \"events\": null\n",
        "   }\n",
        "  ], \n",
        "  \"as_of\": \"2014-03-18T04:07:59Z\", \n",
        "  \"locations\": [\n",
        "   {\n",
        "    \"woeid\": 1, \n",
        "    \"name\": \"Worldwide\"\n",
        "   }\n",
        "  ]\n",
        " }\n",
        "]\n",
        "\n",
        "[\n",
        " {\n",
        "  \"created_at\": \"2014-03-18T04:06:20Z\", \n",
        "  \"trends\": [\n",
        "   {\n",
        "    \"url\": \"http://twitter.com/search?q=%23TOHEARTASC\", \n",
        "    \"query\": \"%23TOHEARTASC\", \n",
        "    \"name\": \"#TOHEARTASC\", \n",
        "    \"promoted_content\": null, \n",
        "    \"events\": null\n",
        "   }, \n",
        "   {\n",
        "    \"url\": \"http://twitter.com/search?q=%23RIPAllison\", \n",
        "    \"query\": \"%23RIPAllison\", \n",
        "    \"name\": \"#RIPAllison\", \n",
        "    \"promoted_content\": null, \n",
        "    \"events\": null\n",
        "   }, \n",
        "   {\n",
        "    \"url\": \"http://twitter.com/search?q=%23RollCallASC\", \n",
        "    \"query\": \"%23RollCallASC\", \n",
        "    \"name\": \"#RollCallASC\", \n",
        "    \"promoted_content\": null, \n",
        "    \"events\": null\n",
        "   }, \n",
        "   {\n",
        "    \"url\": \"http://twitter.com/search?q=%23RonniesNewVideo\", \n",
        "    \"query\": \"%23RonniesNewVideo\", \n",
        "    \"name\": \"#RonniesNewVideo\", \n",
        "    \"promoted_content\": null, \n",
        "    \"events\": null\n",
        "   }, \n",
        "   {\n",
        "    \"url\": \"http://twitter.com/search?q=%23YouCanStayIf\", \n",
        "    \"query\": \"%23YouCanStayIf\", \n",
        "    \"name\": \"#YouCanStayIf\", \n",
        "    \"promoted_content\": null, \n",
        "    \"events\": null\n",
        "   }, \n",
        "   {\n",
        "    \"url\": \"http://twitter.com/search?q=%22James+Spader%22\", \n",
        "    \"query\": \"%22James+Spader%22\", \n",
        "    \"name\": \"James Spader\", \n",
        "    \"promoted_content\": null, \n",
        "    \"events\": null\n",
        "   }, \n",
        "   {\n",
        "    \"url\": \"http://twitter.com/search?q=%22Jeff+Davis%22\", \n",
        "    \"query\": \"%22Jeff+Davis%22\", \n",
        "    \"name\": \"Jeff Davis\", \n",
        "    \"promoted_content\": null, \n",
        "    \"events\": null\n",
        "   }, \n",
        "   {\n",
        "    \"url\": \"http://twitter.com/search?q=%22Teen+Wolf%22\", \n",
        "    \"query\": \"%22Teen+Wolf%22\", \n",
        "    \"name\": \"Teen Wolf\", \n",
        "    \"promoted_content\": null, \n",
        "    \"events\": null\n",
        "   }, \n",
        "   {\n",
        "    \"url\": \"http://twitter.com/search?q=%22Hey+Arnold%22\", \n",
        "    \"query\": \"%22Hey+Arnold%22\", \n",
        "    \"name\": \"Hey Arnold\", \n",
        "    \"promoted_content\": null, \n",
        "    \"events\": null\n",
        "   }, \n",
        "   {\n",
        "    \"url\": \"http://twitter.com/search?q=%22Luke+Bryan%22\", \n",
        "    \"query\": \"%22Luke+Bryan%22\", \n",
        "    \"name\": \"Luke Bryan\", \n",
        "    \"promoted_content\": null, \n",
        "    \"events\": null\n",
        "   }\n",
        "  ], \n",
        "  \"as_of\": \"2014-03-18T04:07:59Z\", \n",
        "  \"locations\": [\n",
        "   {\n",
        "    \"woeid\": 23424977, \n",
        "    \"name\": \"United States\"\n",
        "   }\n",
        "  ]\n",
        " }\n",
        "]\n"
       ]
      }
     ],
     "prompt_number": 42
    },
    {
     "cell_type": "code",
     "collapsed": false,
     "input": [
      "world_trends_set = set([trend['name'] \n",
      "                        for trend in world_trends[0]['trends']])\n",
      "\n",
      "us_trends_set = set([trend['name'] \n",
      "                     for trend in us_trends[0]['trends']]) \n",
      "\n",
      "common_trends = world_trends_set.intersection(us_trends_set)\n",
      "\n",
      "print common_trends"
     ],
     "language": "python",
     "metadata": {},
     "outputs": [
      {
       "output_type": "stream",
       "stream": "stdout",
       "text": [
        "set([u'Hey Arnold', u'Luke Bryan', u'#TOHEARTASC'])\n"
       ]
      }
     ],
     "prompt_number": 43
    },
    {
     "cell_type": "code",
     "collapsed": false,
     "input": [
      "# XXX: Set this variable to a trending topic, \n",
      "# or anything else for that matter. The example query below\n",
      "# was a trending topic when this content was being developed\n",
      "# and is used throughout the remainder of this chapter.\n",
      "\n",
      "q = '#SanFrancisco' \n",
      "\n",
      "count = 100\n",
      "\n",
      "# See https://dev.twitter.com/docs/api/1.1/get/search/tweets\n",
      "\n",
      "search_results = twitter_api.search.tweets(q=q, count=count)\n",
      "\n",
      "statuses = search_results['statuses']\n",
      "\n",
      "\n",
      "# Iterate through 5 more batches of results by following the cursor\n",
      "\n",
      "for _ in range(5):\n",
      "    print \"Length of statuses\", len(statuses)\n",
      "    try:\n",
      "        next_results = search_results['search_metadata']['next_results']\n",
      "    except KeyError, e: # No more results when next_results doesn't exist\n",
      "        break\n",
      "        \n",
      "    # Create a dictionary from next_results, which has the following form:\n",
      "    # ?max_id=313519052523986943&q=NCAA&include_entities=1\n",
      "    kwargs = dict([ kv.split('=') for kv in next_results[1:].split(\"&\") ])\n",
      "    \n",
      "    search_results = twitter_api.search.tweets(**kwargs)\n",
      "    statuses += search_results['statuses']\n",
      "\n",
      "# Show one sample search result by slicing the list...\n",
      "print json.dumps(statuses[0], indent=1)"
     ],
     "language": "python",
     "metadata": {},
     "outputs": [
      {
       "output_type": "stream",
       "stream": "stdout",
       "text": [
        "Length of statuses 100\n",
        "Length of statuses"
       ]
      },
      {
       "output_type": "stream",
       "stream": "stdout",
       "text": [
        " 199\n",
        "{\n",
        " \"contributors\": null, \n",
        " \"truncated\": false, \n",
        " \"text\": \"RT @P_Haasan: #SanFrancisco Heavenly! \\n\\\"@chaebae:@NationalGeoPix @Tagsforlikes #Love? RT Sunrise in San Francisco, USA #EarthPics http://t.\\u2026\", \n",
        " \"in_reply_to_status_id\": null, \n",
        " \"id\": 445777262466838528, \n",
        " \"favorite_count\": 0, \n",
        " \"source\": \"<a href=\\\"http://twitter.com/download/android\\\" rel=\\\"nofollow\\\">Twitter for Android</a>\", \n",
        " \"retweeted\": false, \n",
        " \"coordinates\": null, \n",
        " \"entities\": {\n",
        "  \"symbols\": [], \n",
        "  \"user_mentions\": [\n",
        "   {\n",
        "    \"id\": 1121648666, \n",
        "    \"indices\": [\n",
        "     3, \n",
        "     12\n",
        "    ], \n",
        "    \"id_str\": \"1121648666\", \n",
        "    \"screen_name\": \"P_Haasan\", \n",
        "    \"name\": \"P_Haasan\"\n",
        "   }, \n",
        "   {\n",
        "    \"id\": 26932777, \n",
        "    \"indices\": [\n",
        "     40, \n",
        "     48\n",
        "    ], \n",
        "    \"id_str\": \"26932777\", \n",
        "    \"screen_name\": \"chaebae\", \n",
        "    \"name\": \"Chae Bae\"\n",
        "   }, \n",
        "   {\n",
        "    \"id\": 517617356, \n",
        "    \"indices\": [\n",
        "     49, \n",
        "     64\n",
        "    ], \n",
        "    \"id_str\": \"517617356\", \n",
        "    \"screen_name\": \"NationalGeoPix\", \n",
        "    \"name\": \"NatGeoPix\"\n",
        "   }, \n",
        "   {\n",
        "    \"id\": 719438827, \n",
        "    \"indices\": [\n",
        "     65, \n",
        "     78\n",
        "    ], \n",
        "    \"id_str\": \"719438827\", \n",
        "    \"screen_name\": \"tagsforlikes\", \n",
        "    \"name\": \"TagsForLikes\"\n",
        "   }\n",
        "  ], \n",
        "  \"hashtags\": [\n",
        "   {\n",
        "    \"indices\": [\n",
        "     14, \n",
        "     27\n",
        "    ], \n",
        "    \"text\": \"SanFrancisco\"\n",
        "   }, \n",
        "   {\n",
        "    \"indices\": [\n",
        "     79, \n",
        "     84\n",
        "    ], \n",
        "    \"text\": \"Love\"\n",
        "   }, \n",
        "   {\n",
        "    \"indices\": [\n",
        "     119, \n",
        "     129\n",
        "    ], \n",
        "    \"text\": \"EarthPics\"\n",
        "   }\n",
        "  ], \n",
        "  \"urls\": [], \n",
        "  \"media\": [\n",
        "   {\n",
        "    \"source_status_id_str\": \"445740582598901762\", \n",
        "    \"expanded_url\": \"http://twitter.com/chaebae/status/445740582598901762/photo/1\", \n",
        "    \"display_url\": \"pic.twitter.com/6xbqLGpeuV\", \n",
        "    \"url\": \"http://t.co/6xbqLGpeuV\", \n",
        "    \"media_url_https\": \"https://pbs.twimg.com/media/Bi-WsrnIcAEqtqX.jpg\", \n",
        "    \"source_status_id\": 445740582598901762, \n",
        "    \"id_str\": \"445740582498234369\", \n",
        "    \"sizes\": {\n",
        "     \"large\": {\n",
        "      \"h\": 640, \n",
        "      \"resize\": \"fit\", \n",
        "      \"w\": 640\n",
        "     }, \n",
        "     \"small\": {\n",
        "      \"h\": 340, \n",
        "      \"resize\": \"fit\", \n",
        "      \"w\": 340\n",
        "     }, \n",
        "     \"medium\": {\n",
        "      \"h\": 600, \n",
        "      \"resize\": \"fit\", \n",
        "      \"w\": 600\n",
        "     }, \n",
        "     \"thumb\": {\n",
        "      \"h\": 150, \n",
        "      \"resize\": \"crop\", \n",
        "      \"w\": 150\n",
        "     }\n",
        "    }, \n",
        "    \"indices\": [\n",
        "     139, \n",
        "     140\n",
        "    ], \n",
        "    \"type\": \"photo\", \n",
        "    \"id\": 445740582498234369, \n",
        "    \"media_url\": \"http://pbs.twimg.com/media/Bi-WsrnIcAEqtqX.jpg\"\n",
        "   }\n",
        "  ]\n",
        " }, \n",
        " \"in_reply_to_screen_name\": null, \n",
        " \"in_reply_to_user_id\": null, \n",
        " \"retweet_count\": 2, \n",
        " \"id_str\": \"445777262466838528\", \n",
        " \"favorited\": false, \n",
        " \"retweeted_status\": {\n",
        "  \"contributors\": null, \n",
        "  \"truncated\": false, \n",
        "  \"text\": \"#SanFrancisco Heavenly! \\n\\\"@chaebae:@NationalGeoPix @Tagsforlikes #Love? RT Sunrise in San Francisco, USA #EarthPics http://t.co/6xbqLGpeuV\\\"\", \n",
        "  \"in_reply_to_status_id\": null, \n",
        "  \"id\": 445775207215529984, \n",
        "  \"favorite_count\": 3, \n",
        "  \"source\": \"<a href=\\\"http://twitter.com/download/android\\\" rel=\\\"nofollow\\\">Twitter for Android</a>\", \n",
        "  \"retweeted\": false, \n",
        "  \"coordinates\": null, \n",
        "  \"entities\": {\n",
        "   \"symbols\": [], \n",
        "   \"user_mentions\": [\n",
        "    {\n",
        "     \"id\": 26932777, \n",
        "     \"indices\": [\n",
        "      26, \n",
        "      34\n",
        "     ], \n",
        "     \"id_str\": \"26932777\", \n",
        "     \"screen_name\": \"chaebae\", \n",
        "     \"name\": \"Chae Bae\"\n",
        "    }, \n",
        "    {\n",
        "     \"id\": 517617356, \n",
        "     \"indices\": [\n",
        "      35, \n",
        "      50\n",
        "     ], \n",
        "     \"id_str\": \"517617356\", \n",
        "     \"screen_name\": \"NationalGeoPix\", \n",
        "     \"name\": \"NatGeoPix\"\n",
        "    }, \n",
        "    {\n",
        "     \"id\": 719438827, \n",
        "     \"indices\": [\n",
        "      51, \n",
        "      64\n",
        "     ], \n",
        "     \"id_str\": \"719438827\", \n",
        "     \"screen_name\": \"tagsforlikes\", \n",
        "     \"name\": \"TagsForLikes\"\n",
        "    }\n",
        "   ], \n",
        "   \"hashtags\": [\n",
        "    {\n",
        "     \"indices\": [\n",
        "      0, \n",
        "      13\n",
        "     ], \n",
        "     \"text\": \"SanFrancisco\"\n",
        "    }, \n",
        "    {\n",
        "     \"indices\": [\n",
        "      65, \n",
        "      70\n",
        "     ], \n",
        "     \"text\": \"Love\"\n",
        "    }, \n",
        "    {\n",
        "     \"indices\": [\n",
        "      105, \n",
        "      115\n",
        "     ], \n",
        "     \"text\": \"EarthPics\"\n",
        "    }\n",
        "   ], \n",
        "   \"urls\": [], \n",
        "   \"media\": [\n",
        "    {\n",
        "     \"source_status_id_str\": \"445740582598901762\", \n",
        "     \"expanded_url\": \"http://twitter.com/chaebae/status/445740582598901762/photo/1\", \n",
        "     \"display_url\": \"pic.twitter.com/6xbqLGpeuV\", \n",
        "     \"url\": \"http://t.co/6xbqLGpeuV\", \n",
        "     \"media_url_https\": \"https://pbs.twimg.com/media/Bi-WsrnIcAEqtqX.jpg\", \n",
        "     \"source_status_id\": 445740582598901762, \n",
        "     \"id_str\": \"445740582498234369\", \n",
        "     \"sizes\": {\n",
        "      \"large\": {\n",
        "       \"h\": 640, \n",
        "       \"resize\": \"fit\", \n",
        "       \"w\": 640\n",
        "      }, \n",
        "      \"small\": {\n",
        "       \"h\": 340, \n",
        "       \"resize\": \"fit\", \n",
        "       \"w\": 340\n",
        "      }, \n",
        "      \"medium\": {\n",
        "       \"h\": 600, \n",
        "       \"resize\": \"fit\", \n",
        "       \"w\": 600\n",
        "      }, \n",
        "      \"thumb\": {\n",
        "       \"h\": 150, \n",
        "       \"resize\": \"crop\", \n",
        "       \"w\": 150\n",
        "      }\n",
        "     }, \n",
        "     \"indices\": [\n",
        "      116, \n",
        "      138\n",
        "     ], \n",
        "     \"type\": \"photo\", \n",
        "     \"id\": 445740582498234369, \n",
        "     \"media_url\": \"http://pbs.twimg.com/media/Bi-WsrnIcAEqtqX.jpg\"\n",
        "    }\n",
        "   ]\n",
        "  }, \n",
        "  \"in_reply_to_screen_name\": null, \n",
        "  \"in_reply_to_user_id\": null, \n",
        "  \"retweet_count\": 2, \n",
        "  \"id_str\": \"445775207215529984\", \n",
        "  \"favorited\": false, \n",
        "  \"user\": {\n",
        "   \"follow_request_sent\": false, \n",
        "   \"profile_use_background_image\": true, \n",
        "   \"default_profile_image\": false, \n",
        "   \"id\": 1121648666, \n",
        "   \"profile_background_image_url_https\": \"https://abs.twimg.com/images/themes/theme13/bg.gif\", \n",
        "   \"verified\": false, \n",
        "   \"profile_text_color\": \"333333\", \n",
        "   \"profile_image_url_https\": \"https://pbs.twimg.com/profile_images/378800000764824302/b052b1d5d6c6606c6a32baa9a944a8e8_normal.jpeg\", \n",
        "   \"profile_sidebar_fill_color\": \"FFFFFF\", \n",
        "   \"entities\": {\n",
        "    \"description\": {\n",
        "     \"urls\": []\n",
        "    }\n",
        "   }, \n",
        "   \"followers_count\": 5544, \n",
        "   \"profile_sidebar_border_color\": \"FFFFFF\", \n",
        "   \"id_str\": \"1121648666\", \n",
        "   \"profile_background_color\": \"0099B9\", \n",
        "   \"listed_count\": 98, \n",
        "   \"is_translation_enabled\": false, \n",
        "   \"utc_offset\": -25200, \n",
        "   \"statuses_count\": 21194, \n",
        "   \"description\": \"Software|HR|Tech|News|Photo\", \n",
        "   \"friends_count\": 5488, \n",
        "   \"location\": \"San Francisco\", \n",
        "   \"profile_link_color\": \"0099B9\", \n",
        "   \"profile_image_url\": \"http://pbs.twimg.com/profile_images/378800000764824302/b052b1d5d6c6606c6a32baa9a944a8e8_normal.jpeg\", \n",
        "   \"following\": false, \n",
        "   \"geo_enabled\": false, \n",
        "   \"profile_banner_url\": \"https://pbs.twimg.com/profile_banners/1121648666/1379491197\", \n",
        "   \"profile_background_image_url\": \"http://abs.twimg.com/images/themes/theme13/bg.gif\", \n",
        "   \"screen_name\": \"P_Haasan\", \n",
        "   \"lang\": \"en\", \n",
        "   \"profile_background_tile\": false, \n",
        "   \"favourites_count\": 18909, \n",
        "   \"name\": \"P_Haasan\", \n",
        "   \"notifications\": false, \n",
        "   \"url\": null, \n",
        "   \"created_at\": \"Sat Jan 26 10:56:53 +0000 2013\", \n",
        "   \"contributors_enabled\": false, \n",
        "   \"time_zone\": \"Pacific Time (US & Canada)\", \n",
        "   \"protected\": false, \n",
        "   \"default_profile\": false, \n",
        "   \"is_translator\": false\n",
        "  }, \n",
        "  \"geo\": null, \n",
        "  \"in_reply_to_user_id_str\": null, \n",
        "  \"possibly_sensitive\": false, \n",
        "  \"lang\": \"en\", \n",
        "  \"created_at\": \"Tue Mar 18 04:14:26 +0000 2014\", \n",
        "  \"in_reply_to_status_id_str\": null, \n",
        "  \"place\": null, \n",
        "  \"metadata\": {\n",
        "   \"iso_language_code\": \"en\", \n",
        "   \"result_type\": \"recent\"\n",
        "  }\n",
        " }, \n",
        " \"user\": {\n",
        "  \"follow_request_sent\": false, \n",
        "  \"profile_use_background_image\": true, \n",
        "  \"default_profile_image\": false, \n",
        "  \"id\": 2350703884, \n",
        "  \"profile_background_image_url_https\": \"https://abs.twimg.com/images/themes/theme1/bg.png\", \n",
        "  \"verified\": false, \n",
        "  \"profile_text_color\": \"333333\", \n",
        "  \"profile_image_url_https\": \"https://pbs.twimg.com/profile_images/441252975227703296/Xi47yjcZ_normal.jpeg\", \n",
        "  \"profile_sidebar_fill_color\": \"DDEEF6\", \n",
        "  \"entities\": {\n",
        "   \"description\": {\n",
        "    \"urls\": []\n",
        "   }\n",
        "  }, \n",
        "  \"followers_count\": 106, \n",
        "  \"profile_sidebar_border_color\": \"C0DEED\", \n",
        "  \"id_str\": \"2350703884\", \n",
        "  \"profile_background_color\": \"C0DEED\", \n",
        "  \"listed_count\": 1, \n",
        "  \"is_translation_enabled\": false, \n",
        "  \"utc_offset\": null, \n",
        "  \"statuses_count\": 1653, \n",
        "  \"description\": \"\\u0432\\u043e\\u0435\\u043d\\u043d\\u043e\\u0441\\u043b\\u0443\\u0436\\u0430\\u0449\\u0430\\u044f\", \n",
        "  \"friends_count\": 130, \n",
        "  \"location\": \"\\u0421-\\u041f\\u0435\\u0442\\u0435\\u0440\\u0431\\u0443\\u0440\\u0433\", \n",
        "  \"profile_link_color\": \"0084B4\", \n",
        "  \"profile_image_url\": \"http://pbs.twimg.com/profile_images/441252975227703296/Xi47yjcZ_normal.jpeg\", \n",
        "  \"following\": false, \n",
        "  \"geo_enabled\": true, \n",
        "  \"profile_banner_url\": \"https://pbs.twimg.com/profile_banners/2350703884/1394038316\", \n",
        "  \"profile_background_image_url\": \"http://abs.twimg.com/images/themes/theme1/bg.png\", \n",
        "  \"screen_name\": \"pekines0428\", \n",
        "  \"lang\": \"ru\", \n",
        "  \"profile_background_tile\": false, \n",
        "  \"favourites_count\": 1403, \n",
        "  \"name\": \"\\u0413\\u0430\\u043b\\u0438\\u043d\\u0430 \\u042f\\u043a\\u0443\\u0448\\u0435\\u0432\\u0430\", \n",
        "  \"notifications\": false, \n",
        "  \"url\": null, \n",
        "  \"created_at\": \"Tue Feb 18 14:28:17 +0000 2014\", \n",
        "  \"contributors_enabled\": false, \n",
        "  \"time_zone\": null, \n",
        "  \"protected\": false, \n",
        "  \"default_profile\": true, \n",
        "  \"is_translator\": false\n",
        " }, \n",
        " \"geo\": null, \n",
        " \"in_reply_to_user_id_str\": null, \n",
        " \"possibly_sensitive\": false, \n",
        " \"lang\": \"en\", \n",
        " \"created_at\": \"Tue Mar 18 04:22:36 +0000 2014\", \n",
        " \"in_reply_to_status_id_str\": null, \n",
        " \"place\": null, \n",
        " \"metadata\": {\n",
        "  \"iso_language_code\": \"en\", \n",
        "  \"result_type\": \"recent\"\n",
        " }\n",
        "}\n"
       ]
      }
     ],
     "prompt_number": 44
    },
    {
     "cell_type": "code",
     "collapsed": false,
     "input": [
      "status_texts = [ status['text'] \n",
      "                 for status in statuses ]\n",
      "\n",
      "screen_names = [ user_mention['screen_name'] \n",
      "                 for status in statuses\n",
      "                     for user_mention in status['entities']['user_mentions'] ]\n",
      "\n",
      "hashtags = [ hashtag['text'] \n",
      "             for status in statuses\n",
      "                 for hashtag in status['entities']['hashtags'] ]\n",
      "\n",
      "# Compute a collection of all words from all tweets\n",
      "words = [ w \n",
      "          for t in status_texts \n",
      "              for w in t.split() ]\n",
      "\n",
      "# Explore the first 5 items for each...\n",
      "\n",
      "print json.dumps(status_texts[0:5], indent=1)\n",
      "print json.dumps(screen_names[0:5], indent=1) \n",
      "print json.dumps(hashtags[0:5], indent=1)\n",
      "print json.dumps(words[0:5], indent=1)"
     ],
     "language": "python",
     "metadata": {},
     "outputs": [
      {
       "output_type": "stream",
       "stream": "stdout",
       "text": [
        "[\n",
        " \"RT @P_Haasan: #SanFrancisco Heavenly! \\n\\\"@chaebae:@NationalGeoPix @Tagsforlikes #Love? RT Sunrise in San Francisco, USA #EarthPics http://t.\\u2026\", \n",
        " \"Another beautiful day in #SanFrancisco \\ud83c\\udf0a\\u2600\\ufe0f http://t.co/prieCtFlVH\", \n",
        " \"\\ud83c\\udf1e #California #SanFrancisco #Hippies\\u270c\\ufe0f#Haight-Ashbury @ Haight-Ashbury http://t.co/tSbeGozfQR\", \n",
        " \"#groupselfie in #sanfrancisco | #swedesinthecity @ 1005 Lombard St http://t.co/NpCkbvt4jb\", \n",
        " \"Teens from Concord and #SanFrancisco collaborate in Iron Chef-style #healthy cooking challenge .. #OaklandNews http://t.co/Yc6QVg1fcc\"\n",
        "]\n",
        "[\n",
        " \"P_Haasan\", \n",
        " \"chaebae\", \n",
        " \"NationalGeoPix\", \n",
        " \"tagsforlikes\", \n",
        " \"cdanguyen08\"\n",
        "]\n",
        "[\n",
        " \"SanFrancisco\", \n",
        " \"Love\", \n",
        " \"EarthPics\", \n",
        " \"SanFrancisco\", \n",
        " \"California\"\n",
        "]\n",
        "[\n",
        " \"RT\", \n",
        " \"@P_Haasan:\", \n",
        " \"#SanFrancisco\", \n",
        " \"Heavenly!\", \n",
        " \"\\\"@chaebae:@NationalGeoPix\"\n",
        "]\n"
       ]
      }
     ],
     "prompt_number": 47
    },
    {
     "cell_type": "code",
     "collapsed": false,
     "input": [
      "from collections import Counter\n",
      "\n",
      "for item in [words, screen_names, hashtags]:\n",
      "    c = Counter(item)\n",
      "    print c.most_common()[:10] # top 10\n",
      "    print"
     ],
     "language": "python",
     "metadata": {},
     "outputs": [
      {
       "output_type": "stream",
       "stream": "stdout",
       "text": [
        "[(u'#SanFrancisco', 121), (u'RT', 76), (u'#sanfrancisco', 63), (u'in', 34), (u'the', 29), (u'of', 23), (u'en', 22), (u'to', 22), (u'la', 22), (u'estuvo', 20)]\n",
        "\n",
        "[(u'sin_mordaza', 20), (u'Yelp', 6), (u'BloomRoomSF', 5), (u'SFnewsnow', 4), (u'chaebae', 3), (u'NationalGeoPix', 3), (u'tagsforlikes', 3), (u'P_Haasan', 2), (u'neodanti', 2), (u'SFGiants', 2)]\n",
        "\n",
        "[(u'SanFrancisco', 131), (u'sanfrancisco', 66), (u'SOSVenezuela', 20), (u'USA', 20), (u'California', 10), (u'SF', 9), (u'stoner', 6), (u'cannabis', 6), (u'mmj', 6), (u'CA', 6)]\n",
        "\n"
       ]
      }
     ],
     "prompt_number": 48
    },
    {
     "cell_type": "code",
     "collapsed": false,
     "input": [],
     "language": "python",
     "metadata": {},
     "outputs": []
    }
   ],
   "metadata": {}
  }
 ]
}