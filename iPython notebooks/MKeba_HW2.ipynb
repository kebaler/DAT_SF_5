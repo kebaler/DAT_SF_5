{
 "metadata": {
  "name": ""
 },
 "nbformat": 3,
 "nbformat_minor": 0,
 "worksheets": [
  {
   "cells": [
    {
     "cell_type": "code",
     "collapsed": false,
     "input": [
      "# The ususal imports\n",
      "%matplotlib inline\n",
      "import matplotlib.pyplot as plt\n",
      "import numpy as np\n",
      "import pandas as pd"
     ],
     "language": "python",
     "metadata": {},
     "outputs": [],
     "prompt_number": 1
    },
    {
     "cell_type": "markdown",
     "metadata": {},
     "source": [
      "##Question 1: KNN Classification"
     ]
    },
    {
     "cell_type": "code",
     "collapsed": false,
     "input": [
      "\n",
      "# Importing iris data, added headers and column named 'Target'.\n",
      "# Note - I had to skip the first row after inspecting the csv file where I saw it was blank.\n",
      "iris = pd.read_csv( 'iris_data.csv',\n",
      "                   header=None,\n",
      "                   skiprows=0,\n",
      "                   names=['SepalLength','SepalWidth','PetalLength','PetalWidth','Name','Target'])"
     ],
     "language": "python",
     "metadata": {},
     "outputs": [],
     "prompt_number": 2
    },
    {
     "cell_type": "code",
     "collapsed": false,
     "input": [
      "iris.info()"
     ],
     "language": "python",
     "metadata": {},
     "outputs": [
      {
       "output_type": "stream",
       "stream": "stdout",
       "text": [
        "<class 'pandas.core.frame.DataFrame'>\n",
        "Int64Index: 151 entries, 0 to 150\n",
        "Data columns (total 6 columns):\n",
        "SepalLength    150 non-null float64\n",
        "SepalWidth     150 non-null float64\n",
        "PetalLength    150 non-null float64\n",
        "PetalWidth     150 non-null float64\n",
        "Name           150 non-null object\n",
        "Target         0 non-null float64\n",
        "dtypes: float64(5), object(1)"
       ]
      }
     ],
     "prompt_number": 3
    },
    {
     "cell_type": "code",
     "collapsed": false,
     "input": [
      "#Assigning values to the 'Target' column based on the 'Name' column\n",
      "iris[\"Target\"][iris[\"Name\"] == \"Iris-setosa\"] = 0\n",
      "iris[\"Target\"][iris[\"Name\"] == \"Iris-versicolor\"] = 1\n",
      "iris[\"Target\"][iris[\"Name\"] == \"Iris-virginica\"] = 2"
     ],
     "language": "python",
     "metadata": {},
     "outputs": [],
     "prompt_number": 4
    },
    {
     "cell_type": "code",
     "collapsed": false,
     "input": [
      "# Defining X and y\n",
      "X = iris[['SepalLength', 'SepalWidth', 'PetalLength', 'PetalWidth']].dropna()\n",
      "y = iris['Target'].dropna()\n",
      "Names = iris['Name'].dropna()"
     ],
     "language": "python",
     "metadata": {},
     "outputs": [],
     "prompt_number": 5
    },
    {
     "cell_type": "code",
     "collapsed": false,
     "input": [
      "from sklearn.cross_validation import train_test_split\n",
      "X_train, X_test, y_train, y_test = train_test_split( X, y, test_size=0.20, random_state=0)\n",
      "from sklearn.neighbors import KNeighborsClassifier\n",
      "myknn = KNeighborsClassifier(3).fit(X_train,y_train)\n",
      "print \"Answer 1: KNN Score where k=3,\", round(myknn.score(X_test, y_test),3) "
     ],
     "language": "python",
     "metadata": {},
     "outputs": [
      {
       "output_type": "stream",
       "stream": "stdout",
       "text": [
        "Answer 1: KNN Score where k=3, 0.967\n"
       ]
      }
     ],
     "prompt_number": 6
    },
    {
     "cell_type": "markdown",
     "metadata": {},
     "source": [
      "##Q2: 5 fold cross-validation"
     ]
    },
    {
     "cell_type": "code",
     "collapsed": false,
     "input": [
      "from sklearn.cross_validation import KFold"
     ],
     "language": "python",
     "metadata": {},
     "outputs": [],
     "prompt_number": 7
    },
    {
     "cell_type": "code",
     "collapsed": false,
     "input": [
      "def cross_validate(X, y, classifier, k_fold) :\n",
      "\n",
      "    # derive a set of (random) training and testing indices\n",
      "    k_fold_indices = KFold( len(X), n_folds=k_fold,\n",
      "                           indices=True, shuffle=True,\n",
      "                           random_state=0)\n",
      "\n",
      "    k_score_total = 0\n",
      "    # for each training and testing slices run the classifier, and score the results\n",
      "    for train_slice, test_slice in k_fold_indices :\n",
      "\n",
      "        model = classifier(X[[ train_slice  ]],\n",
      "                         y[[ train_slice  ]])\n",
      "\n",
      "        k_score = model.score(X[[ test_slice ]],\n",
      "                              y[[ test_slice ]])\n",
      "\n",
      "        k_score_total += k_score\n",
      "\n",
      "    # return the average accuracy\n",
      "    return k_score_total/k_fold"
     ],
     "language": "python",
     "metadata": {},
     "outputs": [],
     "prompt_number": 8
    },
    {
     "cell_type": "code",
     "collapsed": false,
     "input": [
      "print \"Q2 Answer: Cross-validation score:\", round(cross_validate(X.values, y.values, KNeighborsClassifier(3).fit, 5),3)"
     ],
     "language": "python",
     "metadata": {},
     "outputs": [
      {
       "output_type": "stream",
       "stream": "stdout",
       "text": [
        "Q2 Answer: Cross-validation score: 0.953\n"
       ]
      }
     ],
     "prompt_number": 9
    },
    {
     "cell_type": "markdown",
     "metadata": {},
     "source": [
      "##Q3: Optimal Value of k"
     ]
    },
    {
     "cell_type": "code",
     "collapsed": false,
     "input": [
      "##Q3\n",
      "from sklearn.cross_validation import train_test_split\n",
      "X_train, X_test, y_train, y_test = train_test_split( X, y, test_size=0.20, random_state=0)\n",
      "from sklearn.neighbors import KNeighborsClassifier\n",
      "print \"knn score score for:\"\n",
      "for k in range(1,150):\n",
      "    myknn = KNeighborsClassifier(k).fit(X_train,y_train)\n",
      "    print \"k = %d,\" %k, round(myknn.score(X_test, y_test),3)"
     ],
     "language": "python",
     "metadata": {},
     "outputs": [
      {
       "output_type": "stream",
       "stream": "stdout",
       "text": [
        "knn score score for:\n",
        "k = 1, 1.0\n",
        "k = 2, 0.967\n",
        "k = 3, 0.967\n",
        "k = 4, 1.0\n",
        "k = 5, 0.967\n",
        "k = 6, 1.0\n",
        "k = 7, 1.0\n",
        "k = 8, 1.0\n",
        "k = 9, 1.0\n",
        "k = 10, 1.0\n",
        "k = 11, 1.0\n",
        "k = 12, 1.0\n",
        "k = 13, 1.0\n",
        "k = 14, 1.0\n",
        "k = 15, 1.0\n",
        "k = 16, 1.0\n",
        "k = 17, 1.0\n",
        "k = 18, 1.0\n",
        "k = 19, 1.0\n",
        "k = 20, 1.0\n",
        "k = 21, 1.0\n",
        "k = 22, 1.0\n",
        "k = 23, 1.0\n",
        "k = 24, 1.0\n",
        "k = 25, 1.0\n",
        "k = 26, 0.967\n",
        "k = 27, "
       ]
      },
      {
       "output_type": "stream",
       "stream": "stdout",
       "text": [
        "0.933\n",
        "k = 28, 0.967\n",
        "k = 29, 0.967\n",
        "k = 30, 0.967\n",
        "k = 31, 0.933\n",
        "k = 32, 0.9\n",
        "k = 33, 0.933\n",
        "k = 34, 0.967\n",
        "k = 35, 0.933\n",
        "k = 36, 0.933\n",
        "k = 37, 0.933\n",
        "k = 38, 0.933\n",
        "k = 39, 0.933\n",
        "k = 40, 0.933\n",
        "k = 41, 0.933\n",
        "k = 42, 0.933\n",
        "k = 43, 0.933\n",
        "k = 44, 0.933\n",
        "k = 45, 0.933\n",
        "k = 46, 0.9\n",
        "k = 47, 0.9\n",
        "k = 48, 0.867\n",
        "k = 49, 0.9\n",
        "k = 50, 0.867\n",
        "k = 51, 0.9\n",
        "k = 52, 0.9\n",
        "k = 53, 0.9\n",
        "k = 54, "
       ]
      },
      {
       "output_type": "stream",
       "stream": "stdout",
       "text": [
        "0.9\n",
        "k = 55, 0.9\n",
        "k = 56, 0.9\n",
        "k = 57, 0.9\n",
        "k = 58, 0.9\n",
        "k = 59, 0.933\n",
        "k = 60, 0.9\n",
        "k = 61, 0.9\n",
        "k = 62, 0.9\n",
        "k = 63, 0.9\n",
        "k = 64, 0.9\n",
        "k = 65, 0.9\n",
        "k = 66, 0.9\n",
        "k = 67, 0.9\n",
        "k = 68, 0.9\n",
        "k = 69, 0.8\n",
        "k = 70, 0.8\n",
        "k = 71, 0.8\n",
        "k = 72, 0.833\n",
        "k = 73, 0.833\n",
        "k = 74, 0.833\n",
        "k = 75, 0.7\n",
        "k = 76, 0.667\n",
        "k = 77, 0.667\n",
        "k = 78, 0.633\n",
        "k = 79, 0.6\n",
        "k = 80, "
       ]
      },
      {
       "output_type": "stream",
       "stream": "stdout",
       "text": [
        "0.6\n",
        "k = 81, 0.6\n",
        "k = 82, 0.6\n",
        "k = 83, 0.6\n",
        "k = 84, 0.6\n",
        "k = 85, 0.633\n",
        "k = 86, 0.633\n",
        "k = 87, 0.6\n",
        "k = 88, 0.6\n",
        "k = 89, 0.6\n",
        "k = 90, 0.6\n",
        "k = 91, 0.6\n",
        "k = 92, 0.6\n",
        "k = 93, 0.567\n",
        "k = 94, 0.567\n",
        "k = 95, 0.567\n",
        "k = 96, 0.567\n",
        "k = 97, 0.567\n",
        "k = 98, 0.567\n",
        "k = 99, 0.567\n",
        "k = 100, 0.567\n",
        "k = 101, 0.567\n",
        "k = 102, 0.567\n",
        "k = 103, 0.567\n",
        "k = 104, 0.567\n",
        "k = 105, "
       ]
      },
      {
       "output_type": "stream",
       "stream": "stdout",
       "text": [
        "0.567\n",
        "k = 106, 0.567\n",
        "k = 107, 0.567\n",
        "k = 108, 0.567\n",
        "k = 109, 0.567\n",
        "k = 110, 0.567\n",
        "k = 111, 0.567\n",
        "k = 112, 0.567\n",
        "k = 113, 0.567\n",
        "k = 114, 0.567\n",
        "k = 115, 0.567\n",
        "k = 116, 0.2\n",
        "k = 117, 0.2\n",
        "k = 118, 0.2\n",
        "k = 119, 0.2\n",
        "k = 120, 0.2\n",
        "k = 121, 0.2\n",
        "k = 122, 0.2\n",
        "k = 123, 0.2\n",
        "k = 124, 0.2\n",
        "k = 125, 0.2\n",
        "k = 126, 0.2\n",
        "k = 127, 0.2\n",
        "k = 128, 0.2\n",
        "k = 129, "
       ]
      },
      {
       "output_type": "stream",
       "stream": "stdout",
       "text": [
        "0.2\n",
        "k = 130, 0.2\n",
        "k = 131, 0.2\n",
        "k = 132, 0.2\n",
        "k = 133, 0.2\n",
        "k = 134, 0.2\n",
        "k = 135, 0.2\n",
        "k = 136, 0.2\n",
        "k = 137, 0.2\n",
        "k = 138, 0.2\n",
        "k = 139, 0.2\n",
        "k = 140, 0.2\n",
        "k = 141, 0.2\n",
        "k = 142, 0.2\n",
        "k = 143, 0.2\n",
        "k = 144, 0.2\n",
        "k = 145, 0.2\n",
        "k = 146, 0.2\n",
        "k = 147, 0.2\n",
        "k = 148, 0.2\n",
        "k = 149, 0.2\n"
       ]
      }
     ],
     "prompt_number": 29
    },
    {
     "cell_type": "markdown",
     "metadata": {},
     "source": [
      "##Q3 Answer: k is optimal between 6 and 25"
     ]
    },
    {
     "cell_type": "code",
     "collapsed": false,
     "input": [
      "k1 = np.arange(150) +1\n",
      "print k1"
     ],
     "language": "python",
     "metadata": {},
     "outputs": [
      {
       "output_type": "stream",
       "stream": "stdout",
       "text": [
        "[  1   2   3   4   5   6   7   8   9  10  11  12  13  14  15  16  17  18\n",
        "  19  20  21  22  23  24  25  26  27  28  29  30  31  32  33  34  35  36\n",
        "  37  38  39  40  41  42  43  44  45  46  47  48  49  50  51  52  53  54\n",
        "  55  56  57  58  59  60  61  62  63  64  65  66  67  68  69  70  71  72\n",
        "  73  74  75  76  77  78  79  80  81  82  83  84  85  86  87  88  89  90\n",
        "  91  92  93  94  95  96  97  98  99 100 101 102 103 104 105 106 107 108\n",
        " 109 110 111 112 113 114 115 116 117 118 119 120 121 122 123 124 125 126\n",
        " 127 128 129 130 131 132 133 134 135 136 137 138 139 140 141 142 143 144\n",
        " 145 146 147 148 149 150]\n"
       ]
      }
     ],
     "prompt_number": 31
    },
    {
     "cell_type": "markdown",
     "metadata": {},
     "source": [
      "##Q4: Plot classifier accuracy versus the hyperparameter K for a range of K that you consider interesting. Explain in words what you are seeing."
     ]
    },
    {
     "cell_type": "code",
     "collapsed": false,
     "input": [
      "fig = plt.figure(figsize=(8,5))\n",
      "plt.plot(k1, myknn.score(X_test, \n",
      "                        myknn = KNeighborsClassifier(k1).fit(X_train,y_train)\n",
      "                        myknn.score(X_test, y_test),3)), \n",
      "         'ro-', linewidth=2)\n",
      "plt.title('Classifier accuracy vs k')\n",
      "plt.xlabel('k')\n",
      "plt.ylabel('Classifier accuracy')"
     ],
     "language": "python",
     "metadata": {},
     "outputs": [
      {
       "ename": "SyntaxError",
       "evalue": "invalid syntax (<ipython-input-38-01a4d9f49ed9>, line 4)",
       "output_type": "pyerr",
       "traceback": [
        "\u001b[0;36m  File \u001b[0;32m\"<ipython-input-38-01a4d9f49ed9>\"\u001b[0;36m, line \u001b[0;32m4\u001b[0m\n\u001b[0;31m    myknn.score(X_test, y_test),3)),\u001b[0m\n\u001b[0m        ^\u001b[0m\n\u001b[0;31mSyntaxError\u001b[0m\u001b[0;31m:\u001b[0m invalid syntax\n"
       ]
      }
     ],
     "prompt_number": 38
    },
    {
     "cell_type": "markdown",
     "metadata": {},
     "source": [
      "I had to make an emergency trip to visit family this weekend, if anyone reads this before I have a chance to make an update... I'm unsure of my work on Q3 and was having some trouble finishing the plot for Q4. Hopefully I'll get a chance to finish this off before class on Monday though.."
     ]
    }
   ],
   "metadata": {}
  }
 ]
}